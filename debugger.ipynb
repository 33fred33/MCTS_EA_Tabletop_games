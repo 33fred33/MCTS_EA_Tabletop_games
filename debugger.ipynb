{
 "cells": [
  {
   "cell_type": "code",
   "execution_count": 1,
   "metadata": {},
   "outputs": [],
   "source": [
    "import cProfile\n",
    "import random as rd\n",
    "import time\n",
    "from collections import defaultdict\n",
    "import numpy as np\n",
    "from itertools import cycle\n",
    "import Utilities.experiment_utils as eu\n",
    "import unit_test as ut\n",
    "\n",
    "import Games.mnk as mnk\n",
    "import Agents.random as arand\n",
    "import Agents.vanilla_mcts as mcts \n",
    "import Games.function_optimisation as fo\n",
    "#import carcassonne as carc"
   ]
  },
  {
   "attachments": {},
   "cell_type": "markdown",
   "metadata": {},
   "source": [
    "TEST MCTS BY ITERATION "
   ]
  },
  {
   "cell_type": "code",
   "execution_count": 3,
   "metadata": {},
   "outputs": [
    {
     "name": "stdout",
     "output_type": "stream",
     "text": [
      "Vanilla_MCTS : Random move returned\n"
     ]
    }
   ],
   "source": [
    "\n",
    "base_gs = mnk.GameState(3,3,3)\n",
    "base_gs = fo.GameState(n_players=1, function_index=0)\n",
    "base_gs.set_initial_state()\n",
    "mcts_agent = mcts.MCTS_Player(rollouts=200, c=1, max_iterations=-1, default_policy = arand.RandomPlayer())\n",
    "_ = mcts_agent.choose_action(base_gs)"
   ]
  },
  {
   "cell_type": "code",
   "execution_count": 23,
   "metadata": {},
   "outputs": [
    {
     "name": "stdout",
     "output_type": "stream",
     "text": [
      "\n",
      "edge_action:None, visits:20, avg_reward:0.275, children:9 ucb:None\n",
      "--edge_action:(x2,y0,t0), visits:2, avg_reward:0.235, children:1 ucb:1.97\n",
      "----edge_action:(x2,y2,t1), visits:1, avg_reward:0.175, children:0 ucb:1\n",
      "--edge_action:(x2,y1,t0), visits:2, avg_reward:0.223, children:1 ucb:1.95\n",
      "----edge_action:(x1,y0,t1), visits:1, avg_reward:0.275, children:0 ucb:0.902\n",
      "--edge_action:(x0,y2,t0), visits:2, avg_reward:0.23, children:1 ucb:1.96\n",
      "----edge_action:(x1,y1,t1), visits:1, avg_reward:-0.01, children:0 ucb:1.19\n",
      "--edge_action:(x0,y1,t0), visits:2, avg_reward:0.085, children:1 ucb:1.82\n",
      "----edge_action:(x1,y1,t1), visits:1, avg_reward:-0.065, children:0 ucb:1.24\n",
      "--edge_action:(x2,y2,t0), visits:3, avg_reward:0.368, children:2 ucb:1.78\n",
      "----edge_action:(x1,y2,t1), visits:1, avg_reward:0.49, children:0 ucb:0.992\n",
      "----edge_action:(x2,y0,t1), visits:1, avg_reward:0.255, children:0 ucb:1.23\n",
      "--edge_action:(x1,y2,t0), visits:2, avg_reward:0.21, children:1 ucb:1.94\n",
      "----edge_action:(x0,y1,t1), visits:1, avg_reward:0.275, children:0 ucb:0.902\n",
      "--edge_action:(x0,y0,t0), visits:2, avg_reward:0.415, children:1 ucb:2.15\n",
      "----edge_action:(x0,y1,t1), visits:1, avg_reward:0.42, children:0 ucb:0.757\n",
      "--edge_action:(x1,y0,t0), visits:2, avg_reward:0.0975, children:1 ucb:1.83\n",
      "----edge_action:(x0,y0,t1), visits:1, avg_reward:0.05, children:0 ucb:1.13\n",
      "--edge_action:(x1,y1,t0), visits:3, avg_reward:0.47, children:2 ucb:1.88\n",
      "----edge_action:(x0,y0,t1), visits:1, avg_reward:0.425, children:0 ucb:1.06\n",
      "----edge_action:(x2,y2,t1), visits:1, avg_reward:0.425, children:0 ucb:1.06\n"
     ]
    }
   ],
   "source": [
    "#Test mcts by iteration\n",
    "mcts_agent.iteration(mcts_agent.root_node)\n",
    "print(mcts_agent.view_mcts_tree())"
   ]
  },
  {
   "attachments": {},
   "cell_type": "markdown",
   "metadata": {},
   "source": [
    "Games"
   ]
  },
  {
   "cell_type": "code",
   "execution_count": null,
   "metadata": {},
   "outputs": [],
   "source": [
    "base_gs = mnk.GameState(3,3,3)\n",
    "base_gs.set_initial_state()\n",
    "agent1 = mcts.MCTS_Player(rollouts=100, c=1, max_iterations=20, default_policy=arand.RandomPlayer())\n",
    "agent2 = mcts.MCTS_Player(rollouts=20, c=1, max_iterations=100, default_policy=arand.RandomPlayer())\n",
    "players = [agent1,agent2]\n",
    "gs,logs = eu.play_game(base_gs, players, 5, True)\n",
    "print(gs.winner)\n",
    "gs.view_game_state()\n",
    "print(logs)"
   ]
  },
  {
   "cell_type": "code",
   "execution_count": 2,
   "metadata": {},
   "outputs": [
    {
     "name": "stdout",
     "output_type": "stream",
     "text": [
      "Game tests running\n",
      "Testing game{(0, 0): None, (0, 1): None, (0, 2): None, (1, 0): None, (1, 1): None, (1, 2): None, (2, 0): None, (2, 1): None, (2, 2): None, 'player_turn': 0}\n",
      "Testing game{'Turn': 1, 'Player_symbol': 0, 'dimension0_start': 0, 'dimension0_end': 1}\n"
     ]
    },
    {
     "ename": "KeyboardInterrupt",
     "evalue": "",
     "output_type": "error",
     "traceback": [
      "\u001b[1;31m---------------------------------------------------------------------------\u001b[0m",
      "\u001b[1;31mKeyboardInterrupt\u001b[0m                         Traceback (most recent call last)",
      "\u001b[1;32mc:\\Users\\Fredasus\\Documents\\Gits\\MCTS_EA_Tabletop_games\\debugger.ipynb Cell 7\u001b[0m in \u001b[0;36m<module>\u001b[1;34m\u001b[0m\n\u001b[1;32m----> <a href='vscode-notebook-cell:/c%3A/Users/Fredasus/Documents/Gits/MCTS_EA_Tabletop_games/debugger.ipynb#W4sZmlsZQ%3D%3D?line=0'>1</a>\u001b[0m ut\u001b[39m.\u001b[39;49mrun()\n",
      "File \u001b[1;32mc:\\Users\\Fredasus\\Documents\\Gits\\MCTS_EA_Tabletop_games\\unit_test.py:75\u001b[0m, in \u001b[0;36mrun\u001b[1;34m()\u001b[0m\n\u001b[0;32m     73\u001b[0m \u001b[39mprint\u001b[39m(\u001b[39m\"\u001b[39m\u001b[39mGame tests running\u001b[39m\u001b[39m\"\u001b[39m)\n\u001b[0;32m     74\u001b[0m \u001b[39mfor\u001b[39;00m game \u001b[39min\u001b[39;00m [produce_game(name) \u001b[39mfor\u001b[39;00m name \u001b[39min\u001b[39;00m game_names]:\n\u001b[1;32m---> 75\u001b[0m     \u001b[39massert\u001b[39;00m test_game(game)\n\u001b[0;32m     76\u001b[0m \u001b[39mprint\u001b[39m(\u001b[39m\"\u001b[39m\u001b[39mGame tests passed\u001b[39m\u001b[39m\"\u001b[39m)\n\u001b[0;32m     78\u001b[0m \u001b[39m#Test agents\u001b[39;00m\n",
      "File \u001b[1;32mc:\\Users\\Fredasus\\Documents\\Gits\\MCTS_EA_Tabletop_games\\unit_test.py:37\u001b[0m, in \u001b[0;36mtest_game\u001b[1;34m(state)\u001b[0m\n\u001b[0;32m     35\u001b[0m     rd\u001b[39m.\u001b[39mseed(rs)\n\u001b[0;32m     36\u001b[0m     duplicate_state \u001b[39m=\u001b[39m state\u001b[39m.\u001b[39mduplicate()\n\u001b[1;32m---> 37\u001b[0m     \u001b[39massert\u001b[39;00m game_can_end(duplicate_state, rs), \u001b[39m\"\u001b[39m\u001b[39mGame did not end in 10000 turns. Random seed: \u001b[39m\u001b[39m\"\u001b[39m \u001b[39m+\u001b[39m \u001b[39mstr\u001b[39m(rs)\n\u001b[0;32m     38\u001b[0m \u001b[39mreturn\u001b[39;00m \u001b[39mTrue\u001b[39;00m\n",
      "File \u001b[1;32mc:\\Users\\Fredasus\\Documents\\Gits\\MCTS_EA_Tabletop_games\\unit_test.py:19\u001b[0m, in \u001b[0;36mgame_can_end\u001b[1;34m(state, random_seed, max_turns)\u001b[0m\n\u001b[0;32m     17\u001b[0m         \u001b[39massert\u001b[39;00m state\u001b[39m.\u001b[39mturn \u001b[39m>\u001b[39m \u001b[39m1\u001b[39m, \u001b[39m\"\u001b[39m\u001b[39mGame ended in first turn. Random seed: \u001b[39m\u001b[39m\"\u001b[39m \u001b[39m+\u001b[39m \u001b[39mstr\u001b[39m(random_seed) \u001b[39m+\u001b[39m \u001b[39m\"\u001b[39m\u001b[39m. Implies duplication error\u001b[39m\u001b[39m\"\u001b[39m\n\u001b[0;32m     18\u001b[0m         \u001b[39mreturn\u001b[39;00m \u001b[39mTrue\u001b[39;00m\n\u001b[1;32m---> 19\u001b[0m     state\u001b[39m.\u001b[39;49mmake_action(rd\u001b[39m.\u001b[39;49mchoice(state\u001b[39m.\u001b[39;49mavailable_actions))\n\u001b[0;32m     20\u001b[0m \u001b[39mreturn\u001b[39;00m \u001b[39mFalse\u001b[39;00m\n",
      "File \u001b[1;32mc:\\Users\\Fredasus\\Documents\\Gits\\MCTS_EA_Tabletop_games\\Games\\function_optimisation.py:174\u001b[0m, in \u001b[0;36mGameState.make_action\u001b[1;34m(self, action)\u001b[0m\n\u001b[0;32m    172\u001b[0m    \u001b[39mself\u001b[39m\u001b[39m.\u001b[39mplayer_turn \u001b[39m=\u001b[39m \u001b[39m1\u001b[39m \u001b[39m-\u001b[39m \u001b[39mself\u001b[39m\u001b[39m.\u001b[39mplayer_turn \u001b[39m# switch turn\u001b[39;00m\n\u001b[0;32m    173\u001b[0m \u001b[39mself\u001b[39m\u001b[39m.\u001b[39mturn \u001b[39m=\u001b[39m \u001b[39mself\u001b[39m\u001b[39m.\u001b[39mturn\u001b[39m+\u001b[39m \u001b[39m1\u001b[39m  \u001b[39m# increment turns\u001b[39;00m\n\u001b[1;32m--> 174\u001b[0m \u001b[39mself\u001b[39;49m\u001b[39m.\u001b[39;49m_update_available_actions()\n",
      "File \u001b[1;32mc:\\Users\\Fredasus\\Documents\\Gits\\MCTS_EA_Tabletop_games\\Games\\function_optimisation.py:188\u001b[0m, in \u001b[0;36mGameState._update_available_actions\u001b[1;34m(self)\u001b[0m\n\u001b[0;32m    186\u001b[0m         available_ranges\u001b[39m.\u001b[39mappend(dimension_ranges)\n\u001b[0;32m    187\u001b[0m available_combinations \u001b[39m=\u001b[39m itertools\u001b[39m.\u001b[39mproduct(\u001b[39m*\u001b[39mavailable_ranges)\n\u001b[1;32m--> 188\u001b[0m \u001b[39mself\u001b[39m\u001b[39m.\u001b[39mavailable_actions \u001b[39m=\u001b[39m [Action(\u001b[39mself\u001b[39m\u001b[39m.\u001b[39mplayer_turn, ranges) \u001b[39mfor\u001b[39;00m ranges \u001b[39min\u001b[39;00m available_combinations]\n",
      "File \u001b[1;32mc:\\Users\\Fredasus\\Documents\\Gits\\MCTS_EA_Tabletop_games\\Games\\function_optimisation.py:188\u001b[0m, in \u001b[0;36m<listcomp>\u001b[1;34m(.0)\u001b[0m\n\u001b[0;32m    186\u001b[0m         available_ranges\u001b[39m.\u001b[39mappend(dimension_ranges)\n\u001b[0;32m    187\u001b[0m available_combinations \u001b[39m=\u001b[39m itertools\u001b[39m.\u001b[39mproduct(\u001b[39m*\u001b[39mavailable_ranges)\n\u001b[1;32m--> 188\u001b[0m \u001b[39mself\u001b[39m\u001b[39m.\u001b[39mavailable_actions \u001b[39m=\u001b[39m [Action(\u001b[39mself\u001b[39;49m\u001b[39m.\u001b[39;49mplayer_turn, ranges) \u001b[39mfor\u001b[39;00m ranges \u001b[39min\u001b[39;00m available_combinations]\n",
      "\u001b[1;31mKeyboardInterrupt\u001b[0m: "
     ]
    }
   ],
   "source": [
    "ut.run()"
   ]
  },
  {
   "cell_type": "code",
   "execution_count": 4,
   "metadata": {},
   "outputs": [
    {
     "name": "stdout",
     "output_type": "stream",
     "text": [
      "         10264365 function calls in 12.952 seconds\n",
      "\n",
      "   Ordered by: standard name\n",
      "\n",
      "   ncalls  tottime  percall  cumtime  percall filename:lineno(function)\n",
      "        1    0.623    0.623   12.952   12.952 1794207304.py:8(random_games)\n",
      "        2    0.000    0.000    0.000    0.000 1794207304.py:9(<lambda>)\n",
      "        1    0.000    0.000   12.952   12.952 <string>:1(<module>)\n",
      "   878085    0.971    0.000    4.956    0.000 mnk.py:105(_update_available_actions)\n",
      "   878085    3.867    0.000    3.867    0.000 mnk.py:106(<listcomp>)\n",
      "   888085    4.734    0.000    9.781    0.000 mnk.py:108(make_action)\n",
      "    10000    0.064    0.000    0.643    0.000 mnk.py:157(duplicate)\n",
      "    20000    0.332    0.000    0.332    0.000 mnk.py:161(<dictcomp>)\n",
      "    10000    0.060    0.000    0.060    0.000 mnk.py:162(<listcomp>)\n",
      "    10000    0.171    0.000    0.171    0.000 mnk.py:163(<dictcomp>)\n",
      "    10000    0.011    0.000    0.011    0.000 mnk.py:37(__init__)\n",
      "   888085    0.659    0.000    0.936    0.000 random.py:239(_randbelow_with_getrandbits)\n",
      "   888085    0.490    0.000    1.525    0.000 random.py:375(choice)\n",
      "   888085    0.380    0.000    1.905    0.000 random.py:7(choose_action)\n",
      "        1    0.000    0.000   12.952   12.952 {built-in method builtins.exec}\n",
      "  1766170    0.189    0.000    0.189    0.000 {built-in method builtins.len}\n",
      "   888085    0.109    0.000    0.109    0.000 {method 'bit_length' of 'int' objects}\n",
      "        1    0.000    0.000    0.000    0.000 {method 'disable' of '_lsprof.Profiler' objects}\n",
      "  1333509    0.168    0.000    0.168    0.000 {method 'getrandbits' of '_random.Random' objects}\n",
      "    30000    0.005    0.000    0.005    0.000 {method 'items' of 'dict' objects}\n",
      "   878085    0.118    0.000    0.118    0.000 {method 'values' of 'dict' objects}\n",
      "\n",
      "\n"
     ]
    }
   ],
   "source": [
    "cProfile.run(\"wins =  random_games(10000, base_gs)\")"
   ]
  }
 ],
 "metadata": {
  "kernelspec": {
   "display_name": "Python 3",
   "language": "python",
   "name": "python3"
  },
  "language_info": {
   "codemirror_mode": {
    "name": "ipython",
    "version": 3
   },
   "file_extension": ".py",
   "mimetype": "text/x-python",
   "name": "python",
   "nbconvert_exporter": "python",
   "pygments_lexer": "ipython3",
   "version": "3.10.2"
  },
  "orig_nbformat": 4,
  "vscode": {
   "interpreter": {
    "hash": "6ecbf9c18c0d04a2116424ae9aa6ca1f2cdd5cba2daaa9a1f143185bb59456a8"
   }
  }
 },
 "nbformat": 4,
 "nbformat_minor": 2
}
