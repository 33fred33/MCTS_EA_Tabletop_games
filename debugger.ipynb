{
 "cells": [
  {
   "cell_type": "code",
   "execution_count": 1,
   "metadata": {},
   "outputs": [],
   "source": [
    "import cProfile\n",
    "import random as rd\n",
    "import time\n",
    "from collections import defaultdict\n",
    "import numpy as np\n",
    "\n",
    "#import Games.othello as oth\n",
    "import Games.mnk as mnk\n",
    "import Agents.random as arand\n",
    "#import carcassonne as carc"
   ]
  },
  {
   "cell_type": "code",
   "execution_count": 6,
   "metadata": {},
   "outputs": [],
   "source": [
    "def random_game(state, agent):\n",
    "    gs = state.duplicate()\n",
    "    while not gs.is_terminal:\n",
    "        action = agent.choose_action(gs)\n",
    "        gs.make_action(action)\n",
    "    return gs\n",
    "\n",
    "base_gs = mnk.GameState(13,13,5)\n",
    "base_gs.set_initial_state()\n",
    "agent = arand.RandomPlayer()"
   ]
  },
  {
   "cell_type": "code",
   "execution_count": 89,
   "metadata": {},
   "outputs": [
    {
     "name": "stdout",
     "output_type": "stream",
     "text": [
      "[['X' 'O' 'O' ' ' 'X' 'X' 'O' 'X' ' ' ' ' 'O' 'X' ' ']\n",
      " ['O' 'O' 'X' 'O' 'O' ' ' 'X' ' ' 'O' ' ' ' ' ' ' 'O']\n",
      " [' ' 'X' ' ' 'X' ' ' ' ' 'O' 'O' 'X' ' ' 'O' ' ' ' ']\n",
      " [' ' ' ' 'O' ' ' ' ' 'X' 'O' 'X' ' ' 'O' ' ' 'X' 'X']\n",
      " ['X' 'X' 'O' ' ' 'O' 'O' ' ' 'O' 'X' 'X' 'X' ' ' 'X']\n",
      " [' ' 'O' ' ' ' ' ' ' ' ' 'O' 'X' ' ' ' ' ' ' 'O' ' ']\n",
      " ['X' ' ' ' ' 'O' 'X' 'O' ' ' ' ' 'X' 'O' 'X' ' ' 'X']\n",
      " [' ' 'X' 'X' 'X' 'O' 'O' 'O' ' ' ' ' 'X' ' ' ' ' ' ']\n",
      " [' ' ' ' ' ' ' ' ' ' 'X' ' ' 'X' ' ' 'X' 'X' 'O' 'O']\n",
      " [' ' ' ' 'O' ' ' ' ' 'O' 'O' 'O' ' ' ' ' ' ' 'X' ' ']\n",
      " [' ' ' ' ' ' ' ' ' ' 'X' ' ' ' ' 'X' ' ' 'O' 'O' ' ']\n",
      " [' ' ' ' 'X' 'O' ' ' ' ' 'O' 'O' 'X' ' ' ' ' ' ' 'X']\n",
      " [' ' ' ' ' ' ' ' 'X' ' ' ' ' ' ' ' ' ' ' ' ' 'O' 'X']]\n",
      "m13n13k5terminalTruewinner0player_turn1available_actions86\n"
     ]
    }
   ],
   "source": [
    "action = agent.choose_action(base_gs)\n",
    "base_gs.make_action(action)\n",
    "base_gs.view_game_state()\n",
    "print(str(base_gs))"
   ]
  },
  {
   "cell_type": "code",
   "execution_count": 3,
   "metadata": {},
   "outputs": [
    {
     "name": "stdout",
     "output_type": "stream",
     "text": [
      "defaultdict(<function random_games.<locals>.<lambda> at 0x0000026841DFD6C0>, {0: 5138, 1: 4862})\n"
     ]
    }
   ],
   "source": [
    "base_gs = mnk.GameState(13,13,5)\n",
    "base_gs.set_initial_state()\n",
    "start = time.time()\n",
    "games = 0\n",
    "agent = arand.RandomPlayer()\n",
    "wins = defaultdict(lambda: 0)\n",
    "\n",
    "def random_games(games, state):\n",
    "    wins = defaultdict(lambda:0)\n",
    "    for _ in range(games):\n",
    "        gs = state.duplicate()\n",
    "        while not gs.is_terminal:\n",
    "            action = agent.choose_action(gs)\n",
    "            gs.make_action(action)\n",
    "        wins[gs.winner] += 1\n",
    "        #gs.view_game_state()\n",
    "    return wins\n",
    "\n",
    "def random_game(state):\n",
    "    gs = state.duplicate()\n",
    "    while not gs.is_terminal:\n",
    "        action = agent.choose_action(gs)\n",
    "        gs.make_action(action)\n",
    "    return gs\n",
    "\n",
    "\n",
    "wins =  random_games(10000, base_gs)\n",
    "print(str(wins))"
   ]
  },
  {
   "cell_type": "code",
   "execution_count": 4,
   "metadata": {},
   "outputs": [
    {
     "name": "stdout",
     "output_type": "stream",
     "text": [
      "         845332 function calls in 0.750 seconds\n",
      "\n",
      "   Ordered by: standard name\n",
      "\n",
      "   ncalls  tottime  percall  cumtime  percall filename:lineno(function)\n",
      "        1    0.053    0.053    0.750    0.750 2927661125.py:8(random_games)\n",
      "        2    0.000    0.000    0.000    0.000 2927661125.py:9(<lambda>)\n",
      "        1    0.000    0.000    0.750    0.750 <string>:1(<module>)\n",
      "    88338    0.353    0.000    0.362    0.000 mnk.py:104(make_action)\n",
      "     1000    0.004    0.000    0.030    0.000 mnk.py:139(duplicate)\n",
      "     1000    0.011    0.000    0.011    0.000 mnk.py:143(<dictcomp>)\n",
      "     1000    0.014    0.000    0.014    0.000 mnk.py:144(<dictcomp>)\n",
      "     1000    0.001    0.000    0.001    0.000 mnk.py:39(__init__)\n",
      "    88338    0.059    0.000    0.082    0.000 random.py:239(_randbelow_with_getrandbits)\n",
      "    88338    0.045    0.000    0.136    0.000 random.py:375(choice)\n",
      "    88338    0.157    0.000    0.304    0.000 random.py:7(choose_action)\n",
      "        1    0.000    0.000    0.750    0.750 {built-in method builtins.exec}\n",
      "   176676    0.017    0.000    0.017    0.000 {built-in method builtins.len}\n",
      "    88338    0.009    0.000    0.009    0.000 {method 'bit_length' of 'int' objects}\n",
      "        1    0.000    0.000    0.000    0.000 {method 'disable' of '_lsprof.Profiler' objects}\n",
      "   132622    0.015    0.000    0.015    0.000 {method 'getrandbits' of '_random.Random' objects}\n",
      "     2000    0.000    0.000    0.000    0.000 {method 'items' of 'dict' objects}\n",
      "    88338    0.011    0.000    0.011    0.000 {method 'values' of 'dict' objects}\n",
      "\n",
      "\n"
     ]
    }
   ],
   "source": [
    "cProfile.run(\"wins =  random_games(1000, base_gs)\")"
   ]
  },
  {
   "cell_type": "code",
   "execution_count": 5,
   "metadata": {},
   "outputs": [
    {
     "name": "stdout",
     "output_type": "stream",
     "text": [
      "defaultdict(<function random_games.<locals>.<lambda> at 0x000001AF1C4F5820>, {0: 491, 1: 509})\n"
     ]
    }
   ],
   "source": [
    "wins =  random_games(1000, base_gs)\n",
    "print(wins)"
   ]
  },
  {
   "cell_type": "code",
   "execution_count": 4,
   "metadata": {},
   "outputs": [],
   "source": [
    "base_gs = mnk.GameState(5,5,3)\n",
    "base_gs.set_initial_state()\n",
    "agent = ag.RandomPlayer()\n",
    "gs = base_gs.duplicate()"
   ]
  },
  {
   "cell_type": "code",
   "execution_count": 8,
   "metadata": {},
   "outputs": [
    {
     "name": "stdout",
     "output_type": "stream",
     "text": [
      "[[' ' ' ' ' ' ' ' ' ']\n",
      " ['O' 'X' ' ' ' ' ' ']\n",
      " [' ' ' ' 'X' ' ' ' ']\n",
      " [' ' ' ' ' ' ' ' ' ']\n",
      " [' ' 'O' ' ' ' ' ' ']]\n",
      "horizontal [[2 1 2 2 2]]\n",
      "vertical [[2 0 2 2 1]]\n",
      "action.x 4\n",
      "action.y 1\n",
      "offset -3\n",
      "diagonal_up [[2 1]]\n",
      "diagonal_down [[2 2 2 1]]\n"
     ]
    }
   ],
   "source": [
    "\n",
    "action = agent.choose_action(gs)\n",
    "gs.make_action(action)\n",
    "horizontal = gs.board[action.x]\n",
    "vertical = gs.board[:,action.y]\n",
    "offset = action.y-action.x\n",
    "antioffset = gs.n - 1 - action.y - action.x\n",
    "diagonal_up = gs.board.diagonal(offset)\n",
    "diagonal_down = np.fliplr(gs.board).diagonal(antioffset)\n",
    "\n",
    "\n",
    "gs.view_game_state()\n",
    "print(\"horizontal\", horizontal)\n",
    "print(\"vertical\", vertical.transpose())\n",
    "print(\"action.x\", action.x)\n",
    "print(\"action.y\", action.y)\n",
    "print(\"offset\", offset)\n",
    "print(\"diagonal_up\", diagonal_up)\n",
    "print(\"diagonal_down\", diagonal_down)"
   ]
  }
 ],
 "metadata": {
  "kernelspec": {
   "display_name": "Python 3",
   "language": "python",
   "name": "python3"
  },
  "language_info": {
   "codemirror_mode": {
    "name": "ipython",
    "version": 3
   },
   "file_extension": ".py",
   "mimetype": "text/x-python",
   "name": "python",
   "nbconvert_exporter": "python",
   "pygments_lexer": "ipython3",
   "version": "3.10.2"
  },
  "orig_nbformat": 4,
  "vscode": {
   "interpreter": {
    "hash": "6ecbf9c18c0d04a2116424ae9aa6ca1f2cdd5cba2daaa9a1f143185bb59456a8"
   }
  }
 },
 "nbformat": 4,
 "nbformat_minor": 2
}
