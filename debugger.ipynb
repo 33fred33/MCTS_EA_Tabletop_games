{
 "metadata": {
  "language_info": {
   "codemirror_mode": {
    "name": "ipython",
    "version": 3
   },
   "file_extension": ".py",
   "mimetype": "text/x-python",
   "name": "python",
   "nbconvert_exporter": "python",
   "pygments_lexer": "ipython3",
   "version": "3.9.1"
  },
  "orig_nbformat": 4,
  "kernelspec": {
   "name": "python3",
   "display_name": "Python 3.9.1 64-bit"
  },
  "interpreter": {
   "hash": "ee5cc6fef2d70a7e71ee3826687cbd150f18158e0b1eef11d4f4f92bb920e304"
  }
 },
 "nbformat": 4,
 "nbformat_minor": 2,
 "cells": [
  {
   "cell_type": "code",
   "execution_count": 1,
   "source": [
    "import othello as oth\r\n",
    "import cProfile\r\n",
    "import agents as ag\r\n",
    "import random as rd\r\n",
    "import time\r\n",
    "from collections import defaultdict\r\n",
    "import mnk\r\n",
    "import numpy as np\r\n",
    "#import carcassonne as carc"
   ],
   "outputs": [
    {
     "output_type": "stream",
     "name": "stdout",
     "text": [
      "pygame 2.0.1 (SDL 2.0.14, Python 3.9.1)\n",
      "Hello from the pygame community. https://www.pygame.org/contribute.html\n"
     ]
    }
   ],
   "metadata": {}
  },
  {
   "cell_type": "code",
   "execution_count": 9,
   "source": [
    "base_gs = mnk.GameState(13,13,5)\r\n",
    "base_gs.set_initial_state()\r\n",
    "start = time.time()\r\n",
    "games = 0\r\n",
    "agent = ag.RandomPlayer()\r\n",
    "wins = defaultdict(lambda: 0)\r\n",
    "\r\n",
    "def random_games(games, state):\r\n",
    "    wins = defaultdict(lambda:0)\r\n",
    "    for _ in range(games):\r\n",
    "        gs = state.duplicate()\r\n",
    "        while not gs.is_terminal:\r\n",
    "            action = agent.choose_action(gs)\r\n",
    "            gs.make_action(action)\r\n",
    "        wins[gs.winner] += 1\r\n",
    "    return wins\r\n",
    "\r\n",
    "def random_game(state):\r\n",
    "    gs = state.duplicate()\r\n",
    "    while not gs.is_terminal:\r\n",
    "        action = agent.choose_action(gs)\r\n",
    "        gs.make_action(action)\r\n",
    "    return gs\r\n"
   ],
   "outputs": [],
   "metadata": {}
  },
  {
   "cell_type": "code",
   "execution_count": 13,
   "source": [
    "gs = random_game(base_gs)\r\n",
    "gs.view_game_state()"
   ],
   "outputs": [
    {
     "output_type": "stream",
     "name": "stdout",
     "text": [
      "[['X' 'O' 'O' 'X' 'O' ' ' ' ' 'O' ' ' ' ' 'X' 'O' ' ']\n",
      " ['X' 'O' 'O' 'O' 'X' 'O' ' ' ' ' 'O' ' ' ' ' ' ' ' ']\n",
      " ['X' 'O' 'X' ' ' 'X' 'X' ' ' ' ' 'X' ' ' ' ' ' ' 'X']\n",
      " [' ' 'O' ' ' ' ' ' ' ' ' ' ' ' ' ' ' ' ' 'X' ' ' ' ']\n",
      " [' ' 'O' ' ' ' ' 'O' ' ' 'O' 'O' 'X' ' ' 'X' 'X' 'O']\n",
      " [' ' ' ' ' ' 'O' ' ' 'X' 'O' ' ' 'O' ' ' 'O' 'X' ' ']\n",
      " ['X' 'O' ' ' ' ' 'X' 'O' ' ' 'X' ' ' ' ' 'X' ' ' ' ']\n",
      " ['X' 'O' 'O' ' ' 'X' ' ' ' ' 'O' ' ' ' ' ' ' 'X' ' ']\n",
      " [' ' ' ' ' ' ' ' ' ' ' ' ' ' ' ' ' ' ' ' ' ' 'X' ' ']\n",
      " ['X' ' ' ' ' ' ' 'X' ' ' 'O' ' ' ' ' ' ' 'X' ' ' ' ']\n",
      " [' ' ' ' ' ' ' ' ' ' ' ' ' ' 'X' 'O' ' ' 'O' ' ' ' ']\n",
      " [' ' ' ' ' ' ' ' ' ' ' ' 'X' 'O' 'X' ' ' ' ' 'X' 'X']\n",
      " ['X' ' ' 'X' 'X' ' ' ' ' ' ' 'O' ' ' 'X' 'O' 'O' 'O']]\n"
     ]
    }
   ],
   "metadata": {}
  },
  {
   "cell_type": "code",
   "execution_count": 4,
   "source": [
    "cProfile.run(\"wins =  random_games(1000, base_gs)\")"
   ],
   "outputs": [
    {
     "output_type": "stream",
     "name": "stdout",
     "text": [
      "         10016751 function calls (9833647 primitive calls) in 9.939 seconds\n",
      "\n",
      "   Ordered by: standard name\n",
      "\n",
      "   ncalls  tottime  percall  cumtime  percall filename:lineno(function)\n",
      "    91552    0.064    0.000    0.520    0.000 <__array_function__ internals>:2(flipud)\n",
      "        1    0.131    0.131    9.966    9.966 <ipython-input-2-b4a1b3ad2937>:8(random_games)\n",
      "        2    0.000    0.000    0.000    0.000 <ipython-input-2-b4a1b3ad2937>:9(<lambda>)\n",
      "        1    0.000    0.000    9.966    9.966 <string>:1(<module>)\n",
      "    91552    0.034    0.000    0.108    0.000 _asarray.py:110(asanyarray)\n",
      "    91552    0.051    0.000    0.227    0.000 agents.py:74(choose_action)\n",
      "     1000    0.007    0.000    0.040    0.000 defmatrix.py:115(__new__)\n",
      "824968/641864    0.482    0.000    0.558    0.000 defmatrix.py:167(__array_finalize__)\n",
      "   274656    0.652    0.000    1.031    0.000 defmatrix.py:189(__getitem__)\n",
      "   169000    0.035    0.000    0.035    0.000 mnk.py:10(__init__)\n",
      "   169000    0.060    0.000    0.095    0.000 mnk.py:14(duplicate)\n",
      "  5500513    0.828    0.000    0.828    0.000 mnk.py:17(__eq__)\n",
      "     1000    0.001    0.000    0.001    0.000 mnk.py:36(__init__)\n",
      "    91552    5.871    0.000    9.383    0.000 mnk.py:49(make_action)\n",
      "     1000    0.009    0.000    0.224    0.000 mnk.py:84(duplicate)\n",
      "     1000    0.045    0.000    0.140    0.000 mnk.py:88(<listcomp>)\n",
      "     1000    0.008    0.000    0.034    0.000 mnk.py:89(<listcomp>)\n",
      "    91552    0.040    0.000    0.054    0.000 numeric.py:1865(isscalar)\n",
      "    91552    0.073    0.000    0.107    0.000 random.py:237(_randbelow_with_getrandbits)\n",
      "    91552    0.059    0.000    0.177    0.000 random.py:343(choice)\n",
      "    91552    0.014    0.000    0.014    0.000 twodim_base.py:42(_flip_dispatcher)\n",
      "    91552    0.086    0.000    0.367    0.000 twodim_base.py:97(flipud)\n",
      "     1000    0.004    0.000    0.005    0.000 {built-in method __new__ of type object at 0x00007FFD9F113C60}\n",
      "     1000    0.010    0.000    0.010    0.000 {built-in method _warnings.warn}\n",
      "        1    0.000    0.000    9.966    9.966 {built-in method builtins.exec}\n",
      "  1194176    0.123    0.000    0.123    0.000 {built-in method builtins.isinstance}\n",
      "   366208    0.092    0.000    0.092    0.000 {built-in method builtins.len}\n",
      "    92552    0.091    0.000    0.091    0.000 {built-in method numpy.array}\n",
      "    91552    0.075    0.000    0.442    0.000 {built-in method numpy.core._multiarray_umath.implement_array_function}\n",
      "    91552    0.013    0.000    0.013    0.000 {method 'bit_length' of 'int' objects}\n",
      "   183104    0.119    0.000    0.450    0.000 {method 'diagonal' of 'numpy.ndarray' objects}\n",
      "        1    0.000    0.000    0.000    0.000 {method 'disable' of '_lsprof.Profiler' objects}\n",
      "   136944    0.021    0.000    0.021    0.000 {method 'getrandbits' of '_random.Random' objects}\n",
      "    91552    0.842    0.000    1.670    0.000 {method 'remove' of 'list' objects}\n",
      "\n",
      "\n"
     ]
    }
   ],
   "metadata": {}
  },
  {
   "cell_type": "code",
   "execution_count": 5,
   "source": [
    "wins =  random_games(1000, base_gs)\r\n",
    "print(wins)"
   ],
   "outputs": [
    {
     "output_type": "stream",
     "name": "stdout",
     "text": [
      "defaultdict(<function random_games.<locals>.<lambda> at 0x000001AF1C4F5820>, {0: 491, 1: 509})\n"
     ]
    }
   ],
   "metadata": {}
  },
  {
   "cell_type": "code",
   "execution_count": 4,
   "source": [
    "base_gs = mnk.GameState(5,5,3)\r\n",
    "base_gs.set_initial_state()\r\n",
    "agent = ag.RandomPlayer()\r\n",
    "gs = base_gs.duplicate()"
   ],
   "outputs": [],
   "metadata": {}
  },
  {
   "cell_type": "code",
   "execution_count": 8,
   "source": [
    "\r\n",
    "action = agent.choose_action(gs)\r\n",
    "gs.make_action(action)\r\n",
    "horizontal = gs.board[action.x]\r\n",
    "vertical = gs.board[:,action.y]\r\n",
    "offset = action.y-action.x\r\n",
    "antioffset = gs.n - 1 - action.y - action.x\r\n",
    "diagonal_up = gs.board.diagonal(offset)\r\n",
    "diagonal_down = np.fliplr(gs.board).diagonal(antioffset)\r\n",
    "\r\n",
    "\r\n",
    "gs.view_game_state()\r\n",
    "print(\"horizontal\", horizontal)\r\n",
    "print(\"vertical\", vertical.transpose())\r\n",
    "print(\"action.x\", action.x)\r\n",
    "print(\"action.y\", action.y)\r\n",
    "print(\"offset\", offset)\r\n",
    "print(\"diagonal_up\", diagonal_up)\r\n",
    "print(\"diagonal_down\", diagonal_down)"
   ],
   "outputs": [
    {
     "output_type": "stream",
     "name": "stdout",
     "text": [
      "[[' ' ' ' ' ' ' ' ' ']\n",
      " ['O' 'X' ' ' ' ' ' ']\n",
      " [' ' ' ' 'X' ' ' ' ']\n",
      " [' ' ' ' ' ' ' ' ' ']\n",
      " [' ' 'O' ' ' ' ' ' ']]\n",
      "horizontal [[2 1 2 2 2]]\n",
      "vertical [[2 0 2 2 1]]\n",
      "action.x 4\n",
      "action.y 1\n",
      "offset -3\n",
      "diagonal_up [[2 1]]\n",
      "diagonal_down [[2 2 2 1]]\n"
     ]
    }
   ],
   "metadata": {}
  }
 ]
}