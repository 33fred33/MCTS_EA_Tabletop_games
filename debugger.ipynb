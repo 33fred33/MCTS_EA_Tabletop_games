{
 "cells": [
  {
   "cell_type": "code",
   "execution_count": 1,
   "metadata": {},
   "outputs": [],
   "source": [
    "import cProfile\n",
    "import os\n",
    "import random as rd\n",
    "import time\n",
    "import math\n",
    "from collections import defaultdict\n",
    "import numpy as np\n",
    "import itertools as it\n",
    "import Utilities.experiment_utils as eu\n",
    "import unit_test as ut\n",
    "import Games.mnk as mnk\n",
    "import Agents.random as arand\n",
    "import Agents.vanilla_mcts as mcts \n",
    "import Agents.siea_mcts as siea_mcts\n",
    "import Games.function_optimisation as fo\n",
    "import Utilities.logs_management as lm\n",
    "#cProfile.run(\"wins =  random_games(10000, base_gs)\")"
   ]
  },
  {
   "cell_type": "code",
   "execution_count": null,
   "metadata": {},
   "outputs": [],
   "source": [
    "\n",
    "function_index = 1\n",
    "runs = 3\n",
    "random_seed = 1\n",
    "iterations = 50\n",
    "game_state = fo.GameState(function_index=function_index)\n",
    "game_state.set_initial_state()\n",
    "#mcts_player = siea_mcts.SIEA_MCTS_Player(max_iterations=iterations, logs=True)\n",
    "mcts_player = mcts.MCTS_Player(max_iterations=iterations, logs=True)\n",
    "action = eu.mcts_decision_analysis(game_state, \n",
    "                                   mcts_player, \n",
    "                                   os.path.join(\"Outputs\",\"FO_single_decision_5000it\",\"Function_\" + str(function_index), mcts_player.name), \n",
    "                                   runs, \n",
    "                                   random_seed)"
   ]
  },
  {
   "cell_type": "code",
   "execution_count": null,
   "metadata": {},
   "outputs": [],
   "source": [
    "#FOP experiment\n",
    "random_seed = 1\n",
    "runs = 30\n",
    "iterations = 5000\n",
    "es_lambda = 4\n",
    "es_fitness_iterations = 30\n",
    "es_generations = 20\n",
    "c_list = [0.5, 1, math.sqrt(2),2,3]\n",
    "c_names = [\"0_5\", \"1\", \"1_4142\", \"2\", \"3\"]\n",
    "agents = [mcts.MCTS_Player(max_iterations=iterations, \n",
    "                           logs=True, \n",
    "                           c=c, \n",
    "                           name = \"MCTS_c\" + c_names[i]) for i,c in enumerate(c_list)]\n",
    "agents = agents + [siea_mcts.SIEA_MCTS_Player(max_iterations=its, \n",
    "                                         es_lambda=es_lambda, \n",
    "                                         es_fitness_iterations=es_fitness_iterations,\n",
    "                                        es_generations=es_generations,\n",
    "                                        name = \"SIEA_MCTS_its\" + str(its),\n",
    "                                         logs=True) for its in [iterations, iterations-(es_fitness_iterations*es_generations*es_lambda)]]\n",
    "for function_index in [0,1,2,3,4]:\n",
    "    game_state = fo.GameState(function_index=function_index, n_players=1)\n",
    "    game_state.set_initial_state()\n",
    "    for agent in agents:\n",
    "        action = eu.mcts_decision_analysis(game_state = game_state,\n",
    "                                             mcts_player = agent,\n",
    "                                             logs_path = os.path.join(\"Outputs\",\"FO_single_decision_5000it\",\"Function_\" + str(function_index), agent.name),\n",
    "                                             runs = runs,\n",
    "                                             random_seed = random_seed)                                        \n",
    "\n"
   ]
  },
  {
   "cell_type": "code",
   "execution_count": 2,
   "metadata": {},
   "outputs": [],
   "source": [
    "#tested_agent.evolution_logs\n",
    "#tested_agent.choose_action_logs\n",
    "#print(tested_agent.view_mcts_tree())\n",
    "game = mnk.GameState(11,11,5)\n",
    "game.set_initial_state()\n",
    "agent2 = mcts.MCTS_Player(max_iterations=500, rollouts = 50, logs=True)\n",
    "agent1 = siea_mcts.SIEA_MCTS_Player(max_iterations=500, rollouts = 50, logs=True)\n",
    "agent0 = arand.RandomPlayer()\n",
    "game_player = eu.GamePlayer(game, [agent2, agent1])\n",
    "game_player.play_games(50, logs=True)\n",
    "#game_player.logs_by_action\n",
    "game_player.save_data(os.path.join(\"Outputs\",\"MNK_500it_50r\", str(game_player)))\n",
    "\n",
    "game_player = eu.GamePlayer(game, [agent1, agent2])\n",
    "game_player.play_games(50, logs=True)\n",
    "#game_player.logs_by_action\n",
    "game_player.save_data(os.path.join(\"Outputs\",\"MNK_500it_50r\", str(game_player)))"
   ]
  },
  {
   "cell_type": "code",
   "execution_count": null,
   "metadata": {},
   "outputs": [],
   "source": [
    "ut.run()"
   ]
  }
 ],
 "metadata": {
  "kernelspec": {
   "display_name": "Python 3",
   "language": "python",
   "name": "python3"
  },
  "language_info": {
   "codemirror_mode": {
    "name": "ipython",
    "version": 3
   },
   "file_extension": ".py",
   "mimetype": "text/x-python",
   "name": "python",
   "nbconvert_exporter": "python",
   "pygments_lexer": "ipython3",
   "version": "3.10.2"
  },
  "orig_nbformat": 4,
  "vscode": {
   "interpreter": {
    "hash": "6ecbf9c18c0d04a2116424ae9aa6ca1f2cdd5cba2daaa9a1f143185bb59456a8"
   }
  }
 },
 "nbformat": 4,
 "nbformat_minor": 2
}
