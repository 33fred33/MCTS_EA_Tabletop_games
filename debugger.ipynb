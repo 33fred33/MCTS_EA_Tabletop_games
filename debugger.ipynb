{
 "cells": [
  {
   "cell_type": "code",
   "execution_count": 1,
   "metadata": {},
   "outputs": [],
   "source": [
    "import cProfile\n",
    "import os\n",
    "import random as rd\n",
    "import time\n",
    "import pandas as pd\n",
    "import math\n",
    "from collections import defaultdict\n",
    "import numpy as np\n",
    "import itertools as it\n",
    "import Utilities.experiment_utils as eu\n",
    "import unit_test as ut\n",
    "import Games.mnk as mnk\n",
    "import Agents.random as arand\n",
    "import Agents.vanilla_mcts as mcts \n",
    "import Agents.siea_mcts as siea_mcts\n",
    "import Games.function_optimisation as fo\n",
    "import Utilities.logs_management as lm\n",
    "#cProfile.run(\"wins =  random_games(10000, base_gs)\")"
   ]
  },
  {
   "cell_type": "code",
   "execution_count": null,
   "metadata": {},
   "outputs": [],
   "source": [
    "#Unit test\n",
    "ut.run()\n",
    "#ut.test_tree_cloning()\n",
    "#ut.test_fm_calls()"
   ]
  },
  {
   "cell_type": "code",
   "execution_count": null,
   "metadata": {},
   "outputs": [],
   "source": [
    "experiment_path = os.path.join(\"Outputs\",\"FO_single_decision_5000\")\n",
    "file_path_list = lm.find_log_files(\"tree_data.csv\", experiment_path)\n",
    "print([\"\\n\" + f for f in file_path_list])\n",
    "for function_index in [1,3]:\n",
    "  data_list = []\n",
    "  subplot_titles = []\n",
    "  file_paths = []\n",
    "  for file_path in [f for f in file_path_list if \"Function_\" + str(function_index) in f]:\n",
    "      if \"EA_MCTS\" in file_path:\n",
    "        data_list.append(pd.read_csv(file_path))\n",
    "        subplot_titles += [file_path.split(os.sep)[-2]]\n",
    "        file_paths += [file_path]\n",
    "  if subplot_titles != [] and data_list != []:\n",
    "    fop = fo.GameState(function_index=function_index)\n",
    "\n",
    "    plot = eu.fo_tree_histogram(data_list, \n",
    "                          fop.function, \n",
    "                          \"Function\"+str(function_index+1) , \n",
    "                          divisions = 3,\n",
    "                          n_buckets = 128, \n",
    "                          subplot_titles = [\"\"] + subplot_titles,#file_paths, \n",
    "                          max_x_location=fop.max_location,\n",
    "                          y_ref_value=None)\n",
    "    #plot.write_image(os.path.join(logs_path, \"F\" + str(f_index+1) + \"_results\"+ str(n_buckets) + '.png'))#, width=800, height=1000)\n",
    "    plot.show()"
   ]
  },
  {
   "cell_type": "code",
   "execution_count": null,
   "metadata": {},
   "outputs": [],
   "source": [
    "max_fm = 50000\n",
    "game = mnk.GameState(10,10,5)\n",
    "game.set_initial_state()\n",
    "agent0 = mcts.MCTS_Player(max_fm=max_fm, rollouts = 50, logs=True)\n",
    "agent1 = siea_mcts.SIEA_MCTS_Player(max_fm=max_fm, rollouts = 50, logs=True)\n",
    "agent2 = siea_mcts.SIEA_MCTS_Player(max_fm=max_fm, rollouts = 50, logs=True, unpaired_evolution=True, name=\"SIEA_MCTS_unpaired\")\n",
    "agent3 = arand.RandomPlayer()"
   ]
  },
  {
   "cell_type": "code",
   "execution_count": 2,
   "metadata": {},
   "outputs": [
    {
     "name": "stdout",
     "output_type": "stream",
     "text": [
      "Logs identifier: 919725\n",
      "Agent SIEA_MCTS  chose action [['0.000', '0.500']]t0\n",
      "Agent SIEA_MCTSu  chose action [['0.000', '0.500']]t0\n"
     ]
    }
   ],
   "source": [
    "function_index = 1\n",
    "runs = 10\n",
    "random_seed = 1\n",
    "iterations = 100\n",
    "unique_value = str(rd.randint(1,2**20))\n",
    "print(\"Logs identifier: \" + unique_value)\n",
    "game_state = fo.GameState(function_index=function_index)\n",
    "game_state.set_initial_state()\n",
    "mcts_player = siea_mcts.SIEA_MCTS_Player(max_iterations=iterations, logs=True, es_semantics_l=0.1, es_semantics_u=0.5, unpaired_evolution=False, name=\"SIEA_MCTS\")\n",
    "#mcts_player = mcts.MCTS_Player(max_iterations=iterations, logs=True)\n",
    "agent1_logs_path = os.path.join(\"Outputs\", \"Test\", \"fo_single_decision_\" + unique_value, mcts_player.name)\n",
    "action = eu.mcts_decision_analysis(game_state, \n",
    "                                mcts_player, \n",
    "                                agent1_logs_path, \n",
    "                                runs, \n",
    "                                random_seed)\n",
    "print(\"Agent\", mcts_player.name, \" chose action\", action)\n",
    "mcts_player = siea_mcts.SIEA_MCTS_Player(max_iterations=iterations, logs=True, es_semantics_l=0.1, es_semantics_u=0.5, unpaired_evolution=True, name=\"SIEA_MCTSu\")\n",
    "agent2_logs_path = os.path.join(\"Outputs\", \"Test\", \"fo_single_decision_\" + unique_value, mcts_player.name)\n",
    "action = eu.mcts_decision_analysis(game_state, \n",
    "                                mcts_player, \n",
    "                                os.path.join(\"Outputs\", \"Test\", \"fo_single_decision_\" + unique_value, mcts_player.name), \n",
    "                                runs, \n",
    "                                random_seed)\n",
    "print(\"Agent\", mcts_player.name, \" chose action\", action)\n",
    "test_path = os.path.join(\"Outputs\", \"Test\", \"fo_single_decision_\" + unique_value)\n",
    "for file_name in [\"results.csv\", \"logs_by_run.csv\", \"evolution_logs.csv\", \"tree_data.csv\"]:\n",
    "    collected_logs = lm.combine_logs(test_path, \"collective_\"+file_name, [os.path.join(agent1_logs_path,file_name), os.path.join(agent2_logs_path,file_name)])"
   ]
  },
  {
   "cell_type": "code",
   "execution_count": null,
   "metadata": {},
   "outputs": [],
   "source": [
    "logs_path = os.path.join(\"Outputs\",\"FO_single_decision_5000\")\n",
    "random_seed = 10\n",
    "runs = 30\n",
    "iterations = 5000\n",
    "es_lambda = 4\n",
    "es_fitness_iterations = 30\n",
    "es_generations = 20\n",
    "c_list = [0.5, 1, math.sqrt(2),2,3]\n",
    "c_names = [\"0_5\", \"1\", \"1_4142\", \"2\", \"3\"]\n",
    "agents = []\n",
    "function_indexes = []\n",
    "function_indexes = [1,3]#0,1,2,3,4]\n",
    "#function_indexes += [5,6,7,8,9]\n",
    "\n",
    "agents = agents + [siea_mcts.SIEA_MCTS_Player(max_iterations=its, \n",
    "                                         es_lambda=es_lambda, \n",
    "                                         es_fitness_iterations=es_fitness_iterations,\n",
    "                                        es_generations=es_generations,\n",
    "                                        es_semantics_l=0.1,\n",
    "                                        es_semantics_u = 0.5,\n",
    "                                        name = \"SIEA_MCTS_Clone_Expand_its\" + str(its),\n",
    "                                         logs=True) for its in [iterations, iterations-(es_fitness_iterations*es_generations*es_lambda)]]\n",
    "                                        \n",
    "for function_index in function_indexes:\n",
    "    print(\"In function \" + str(function_index))\n",
    "    game_state = fo.GameState(function_index=function_index, n_players=1)\n",
    "    game_state.set_initial_state()\n",
    "    for agent in agents:\n",
    "        print(\"In agent \" + agent.name)\n",
    "        action = eu.mcts_decision_analysis(game_state = game_state,\n",
    "                                             mcts_player = agent,\n",
    "                                             logs_path = os.path.join(logs_path,\"Function_\" + str(function_index), agent.name),\n",
    "                                             runs = runs,\n",
    "                                             random_seed = random_seed)   \n"
   ]
  }
 ],
 "metadata": {
  "kernelspec": {
   "display_name": "Python 3",
   "language": "python",
   "name": "python3"
  },
  "language_info": {
   "codemirror_mode": {
    "name": "ipython",
    "version": 3
   },
   "file_extension": ".py",
   "mimetype": "text/x-python",
   "name": "python",
   "nbconvert_exporter": "python",
   "pygments_lexer": "ipython3",
   "version": "3.10.2"
  },
  "orig_nbformat": 4,
  "vscode": {
   "interpreter": {
    "hash": "6ecbf9c18c0d04a2116424ae9aa6ca1f2cdd5cba2daaa9a1f143185bb59456a8"
   }
  }
 },
 "nbformat": 4,
 "nbformat_minor": 2
}
