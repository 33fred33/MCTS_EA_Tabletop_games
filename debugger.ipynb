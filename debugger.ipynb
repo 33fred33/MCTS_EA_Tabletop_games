{
 "cells": [
  {
   "cell_type": "code",
   "execution_count": 1,
   "metadata": {},
   "outputs": [],
   "source": [
    "import cProfile\n",
    "import random as rd\n",
    "import time\n",
    "from collections import defaultdict\n",
    "import numpy as np\n",
    "from itertools import cycle\n",
    "import Utilities.experiment_utils as eu\n",
    "\n",
    "import Games.mnk as mnk\n",
    "import Agents.random as arand\n",
    "import Agents.vanilla_mcts as mcts \n",
    "#import carcassonne as carc"
   ]
  },
  {
   "cell_type": "code",
   "execution_count": 2,
   "metadata": {},
   "outputs": [
    {
     "name": "stdout",
     "output_type": "stream",
     "text": [
      "Vanilla_MCTS : Random move returned\n"
     ]
    }
   ],
   "source": [
    "base_gs = mnk.GameState(3,3,3)\n",
    "base_gs.set_initial_state()\n",
    "root_node = mcts.Node(state=base_gs)\n",
    "mcts_agent = mcts.MCTS_Player(rollouts=50, c=1, max_iterations=-1, default_policy = arand.RandomPlayer())\n",
    "_ = mcts_agent.choose_action(base_gs)"
   ]
  },
  {
   "cell_type": "code",
   "execution_count": 3,
   "metadata": {},
   "outputs": [],
   "source": [
    "\n",
    "mcts_agent.iteration(mcts_agent.root_node)\n",
    "print(mcts_agent.view_mcts_tree())"
   ]
  },
  {
   "cell_type": "code",
   "execution_count": 2,
   "metadata": {},
   "outputs": [
    {
     "name": "stdout",
     "output_type": "stream",
     "text": [
      "[[' ' 'O' 'O']\n",
      " [' ' 'O' 'X']\n",
      " ['X' 'X' 'X']]\n",
      "         player player_turn chosen_action turn had_n_options      time\n",
      "0        Random           0    (x1,y2,t0)    1             9       0.0\n",
      "1  Vanilla_MCTS           1    (x0,y1,t1)    2             8 -0.014945\n",
      "2        Random           0    (x2,y2,t0)    3             7       0.0\n",
      "3  Vanilla_MCTS           1    (x1,y1,t1)    4             6 -0.003984\n",
      "4        Random           0    (x2,y1,t0)    5             5       0.0\n",
      "5  Vanilla_MCTS           1    (x0,y2,t1)    6             4 -0.000957\n",
      "6        Random           0    (x2,y0,t0)    7             3       0.0\n"
     ]
    }
   ],
   "source": [
    "base_gs = mnk.GameState(3,3,3)\n",
    "base_gs.set_initial_state()\n",
    "agent1 = arand.RandomPlayer()\n",
    "agent2 = mcts.MCTS_Player(rollouts=10, c=1, max_iterations=20, default_policy=arand.RandomPlayer())\n",
    "players = [agent1,agent2]\n",
    "gs,logs = eu.play_game(base_gs, players, True)\n",
    "gs.view_game_state()\n",
    "print(logs)"
   ]
  },
  {
   "cell_type": "code",
   "execution_count": 8,
   "metadata": {},
   "outputs": [
    {
     "name": "stdout",
     "output_type": "stream",
     "text": [
      "edge_action:None, visits:22, avg_reward:-0.282, children:4 ucb:None\n",
      "--edge_action:(x0,y0,t1), visits:9, avg_reward:0.0956, children:3 ucb:0.924\n",
      "----edge_action:(x2,y1,t0), visits:2, avg_reward:0.56, children:1 ucb:0.922\n",
      "------edge_action:(x2,y2,t1), visits:1, avg_reward:1, children:0 ucb:2.18\n",
      "----edge_action:(x0,y1,t0), visits:2, avg_reward:0.745, children:1 ucb:0.737\n",
      "------edge_action:(x2,y2,t1), visits:1, avg_reward:1, children:0 ucb:2.18\n",
      "----edge_action:(x2,y2,t0), visits:4, avg_reward:-0.4, children:2 ucb:1.45\n",
      "------edge_action:(x2,y1,t1), visits:2, avg_reward:0, children:1 ucb:1.18\n",
      "--------edge_action:(x0,y1,t0), visits:1, avg_reward:0, children:0 ucb:1.18\n",
      "------edge_action:(x0,y1,t1), visits:1, avg_reward:-1, children:0 ucb:0.665\n",
      "--edge_action:(x0,y1,t1), visits:3, avg_reward:-0.847, children:2 ucb:0.589\n",
      "----edge_action:(x0,y0,t0), visits:1, avg_reward:-1, children:0 ucb:2.48\n",
      "----edge_action:(x2,y1,t0), visits:1, avg_reward:-1, children:0 ucb:2.48\n",
      "--edge_action:(x2,y1,t1), visits:5, avg_reward:-0.48, children:3 ucb:0.632\n",
      "----edge_action:(x0,y1,t0), visits:1, avg_reward:-0.54, children:0 ucb:2.33\n",
      "----edge_action:(x2,y2,t0), visits:1, avg_reward:0.51, children:0 ucb:1.28\n",
      "----edge_action:(x0,y0,t0), visits:2, avg_reward:-1, children:0 ucb:2.27\n",
      "--edge_action:(x2,y2,t1), visits:5, avg_reward:-0.424, children:3 ucb:0.688\n",
      "----edge_action:(x0,y1,t0), visits:1, avg_reward:0.18, children:0 ucb:1.61\n",
      "----edge_action:(x2,y1,t0), visits:1, avg_reward:0.04, children:0 ucb:1.75\n",
      "----edge_action:(x0,y0,t0), visits:2, avg_reward:-1, children:0 ucb:2.27\n"
     ]
    }
   ],
   "source": [
    "view_mcts_tree(agent2.root_node, agent2)"
   ]
  },
  {
   "cell_type": "code",
   "execution_count": 5,
   "metadata": {},
   "outputs": [
    {
     "name": "stdout",
     "output_type": "stream",
     "text": [
      "[['O' 'O' 'X']\n",
      " ['X' 'X' 'O']\n",
      " ['X' 'O' 'X']]\n"
     ]
    },
    {
     "ename": "IndexError",
     "evalue": "list index out of range",
     "output_type": "error",
     "traceback": [
      "\u001b[1;31m---------------------------------------------------------------------------\u001b[0m",
      "\u001b[1;31mIndexError\u001b[0m                                Traceback (most recent call last)",
      "\u001b[1;32mc:\\Users\\Fredasus\\Documents\\Gits\\MCTS_EA_Tabletop_games\\debugger.ipynb Cell 6\u001b[0m in \u001b[0;36m<module>\u001b[1;34m\u001b[0m\n\u001b[0;32m     <a href='vscode-notebook-cell:/c%3A/Users/Fredasus/Documents/Gits/MCTS_EA_Tabletop_games/debugger.ipynb#W4sZmlsZQ%3D%3D?line=25'>26</a>\u001b[0m         gs\u001b[39m.\u001b[39mmake_action(action)\n\u001b[0;32m     <a href='vscode-notebook-cell:/c%3A/Users/Fredasus/Documents/Gits/MCTS_EA_Tabletop_games/debugger.ipynb#W4sZmlsZQ%3D%3D?line=26'>27</a>\u001b[0m     \u001b[39mreturn\u001b[39;00m gs\n\u001b[1;32m---> <a href='vscode-notebook-cell:/c%3A/Users/Fredasus/Documents/Gits/MCTS_EA_Tabletop_games/debugger.ipynb#W4sZmlsZQ%3D%3D?line=29'>30</a>\u001b[0m wins \u001b[39m=\u001b[39m  random_games(\u001b[39m10\u001b[39;49m, base_gs)\n\u001b[0;32m     <a href='vscode-notebook-cell:/c%3A/Users/Fredasus/Documents/Gits/MCTS_EA_Tabletop_games/debugger.ipynb#W4sZmlsZQ%3D%3D?line=30'>31</a>\u001b[0m \u001b[39mprint\u001b[39m(\u001b[39mstr\u001b[39m(wins))\n",
      "\u001b[1;32mc:\\Users\\Fredasus\\Documents\\Gits\\MCTS_EA_Tabletop_games\\debugger.ipynb Cell 6\u001b[0m in \u001b[0;36mrandom_games\u001b[1;34m(games, state)\u001b[0m\n\u001b[0;32m     <a href='vscode-notebook-cell:/c%3A/Users/Fredasus/Documents/Gits/MCTS_EA_Tabletop_games/debugger.ipynb#W4sZmlsZQ%3D%3D?line=12'>13</a>\u001b[0m \u001b[39m#aan.append(len(gs.available_actions))\u001b[39;00m\n\u001b[0;32m     <a href='vscode-notebook-cell:/c%3A/Users/Fredasus/Documents/Gits/MCTS_EA_Tabletop_games/debugger.ipynb#W4sZmlsZQ%3D%3D?line=13'>14</a>\u001b[0m \u001b[39mwhile\u001b[39;00m \u001b[39mnot\u001b[39;00m gs\u001b[39m.\u001b[39mis_terminal:\n\u001b[1;32m---> <a href='vscode-notebook-cell:/c%3A/Users/Fredasus/Documents/Gits/MCTS_EA_Tabletop_games/debugger.ipynb#W4sZmlsZQ%3D%3D?line=14'>15</a>\u001b[0m     action \u001b[39m=\u001b[39m agent\u001b[39m.\u001b[39;49mchoose_action(gs)\n\u001b[0;32m     <a href='vscode-notebook-cell:/c%3A/Users/Fredasus/Documents/Gits/MCTS_EA_Tabletop_games/debugger.ipynb#W4sZmlsZQ%3D%3D?line=15'>16</a>\u001b[0m     gs\u001b[39m.\u001b[39mmake_action(action)\n\u001b[0;32m     <a href='vscode-notebook-cell:/c%3A/Users/Fredasus/Documents/Gits/MCTS_EA_Tabletop_games/debugger.ipynb#W4sZmlsZQ%3D%3D?line=16'>17</a>\u001b[0m wins[gs\u001b[39m.\u001b[39mwinner] \u001b[39m+\u001b[39m\u001b[39m=\u001b[39m \u001b[39m1\u001b[39m\n",
      "File \u001b[1;32mc:\\Users\\Fredasus\\Documents\\Gits\\MCTS_EA_Tabletop_games\\Agents\\random.py:8\u001b[0m, in \u001b[0;36mRandomPlayer.choose_action\u001b[1;34m(self, state)\u001b[0m\n\u001b[0;32m      7\u001b[0m \u001b[39mdef\u001b[39;00m \u001b[39mchoose_action\u001b[39m(\u001b[39mself\u001b[39m, state): \u001b[39m#game interface dependencies\u001b[39;00m\n\u001b[1;32m----> 8\u001b[0m     \u001b[39mreturn\u001b[39;00m rd\u001b[39m.\u001b[39;49mchoice(state\u001b[39m.\u001b[39;49mavailable_actions)\n",
      "File \u001b[1;32mc:\\Users\\Fredasus\\AppData\\Local\\Programs\\Python\\Python310\\lib\\random.py:378\u001b[0m, in \u001b[0;36mRandom.choice\u001b[1;34m(self, seq)\u001b[0m\n\u001b[0;32m    376\u001b[0m \u001b[39m\"\"\"Choose a random element from a non-empty sequence.\"\"\"\u001b[39;00m\n\u001b[0;32m    377\u001b[0m \u001b[39m# raises IndexError if seq is empty\u001b[39;00m\n\u001b[1;32m--> 378\u001b[0m \u001b[39mreturn\u001b[39;00m seq[\u001b[39mself\u001b[39;49m\u001b[39m.\u001b[39;49m_randbelow(\u001b[39mlen\u001b[39;49m(seq))]\n",
      "\u001b[1;31mIndexError\u001b[0m: list index out of range"
     ]
    }
   ],
   "source": [
    "base_gs = mnk.GameState(3,3,3)\n",
    "base_gs.set_initial_state()\n",
    "start = time.time()\n",
    "games = 0\n",
    "agent = arand.RandomPlayer()\n",
    "wins = defaultdict(lambda: 0)\n",
    "\n",
    "def random_games(games, state):\n",
    "    wins = defaultdict(lambda:0)\n",
    "    #aan = []\n",
    "    for _ in range(games):\n",
    "        gs = state.duplicate()\n",
    "        #aan.append(len(gs.available_actions))\n",
    "        while not gs.is_terminal:\n",
    "            action = agent.choose_action(gs)\n",
    "            gs.make_action(action)\n",
    "        wins[gs.winner] += 1\n",
    "        gs.view_game_state()\n",
    "    #print(aan)\n",
    "    return wins\n",
    "\n",
    "def random_game(state):\n",
    "    gs = state.duplicate()\n",
    "    while not gs.is_terminal:\n",
    "        action = agent.choose_action(gs)\n",
    "        gs.make_action(action)\n",
    "    return gs\n",
    "\n",
    "\n",
    "wins =  random_games(10, base_gs)\n",
    "print(str(wins))"
   ]
  },
  {
   "cell_type": "code",
   "execution_count": 4,
   "metadata": {},
   "outputs": [
    {
     "name": "stdout",
     "output_type": "stream",
     "text": [
      "         10264365 function calls in 12.952 seconds\n",
      "\n",
      "   Ordered by: standard name\n",
      "\n",
      "   ncalls  tottime  percall  cumtime  percall filename:lineno(function)\n",
      "        1    0.623    0.623   12.952   12.952 1794207304.py:8(random_games)\n",
      "        2    0.000    0.000    0.000    0.000 1794207304.py:9(<lambda>)\n",
      "        1    0.000    0.000   12.952   12.952 <string>:1(<module>)\n",
      "   878085    0.971    0.000    4.956    0.000 mnk.py:105(_update_available_actions)\n",
      "   878085    3.867    0.000    3.867    0.000 mnk.py:106(<listcomp>)\n",
      "   888085    4.734    0.000    9.781    0.000 mnk.py:108(make_action)\n",
      "    10000    0.064    0.000    0.643    0.000 mnk.py:157(duplicate)\n",
      "    20000    0.332    0.000    0.332    0.000 mnk.py:161(<dictcomp>)\n",
      "    10000    0.060    0.000    0.060    0.000 mnk.py:162(<listcomp>)\n",
      "    10000    0.171    0.000    0.171    0.000 mnk.py:163(<dictcomp>)\n",
      "    10000    0.011    0.000    0.011    0.000 mnk.py:37(__init__)\n",
      "   888085    0.659    0.000    0.936    0.000 random.py:239(_randbelow_with_getrandbits)\n",
      "   888085    0.490    0.000    1.525    0.000 random.py:375(choice)\n",
      "   888085    0.380    0.000    1.905    0.000 random.py:7(choose_action)\n",
      "        1    0.000    0.000   12.952   12.952 {built-in method builtins.exec}\n",
      "  1766170    0.189    0.000    0.189    0.000 {built-in method builtins.len}\n",
      "   888085    0.109    0.000    0.109    0.000 {method 'bit_length' of 'int' objects}\n",
      "        1    0.000    0.000    0.000    0.000 {method 'disable' of '_lsprof.Profiler' objects}\n",
      "  1333509    0.168    0.000    0.168    0.000 {method 'getrandbits' of '_random.Random' objects}\n",
      "    30000    0.005    0.000    0.005    0.000 {method 'items' of 'dict' objects}\n",
      "   878085    0.118    0.000    0.118    0.000 {method 'values' of 'dict' objects}\n",
      "\n",
      "\n"
     ]
    }
   ],
   "source": [
    "cProfile.run(\"wins =  random_games(10000, base_gs)\")"
   ]
  },
  {
   "cell_type": "code",
   "execution_count": 5,
   "metadata": {},
   "outputs": [
    {
     "name": "stdout",
     "output_type": "stream",
     "text": [
      "defaultdict(<function random_games.<locals>.<lambda> at 0x000001AF1C4F5820>, {0: 491, 1: 509})\n"
     ]
    }
   ],
   "source": [
    "wins =  random_games(1000, base_gs)\n",
    "print(wins)"
   ]
  },
  {
   "cell_type": "code",
   "execution_count": 4,
   "metadata": {},
   "outputs": [],
   "source": [
    "base_gs = mnk.GameState(5,5,3)\n",
    "base_gs.set_initial_state()\n",
    "agent = ag.RandomPlayer()\n",
    "gs = base_gs.duplicate()"
   ]
  },
  {
   "cell_type": "code",
   "execution_count": 8,
   "metadata": {},
   "outputs": [
    {
     "name": "stdout",
     "output_type": "stream",
     "text": [
      "[[' ' ' ' ' ' ' ' ' ']\n",
      " ['O' 'X' ' ' ' ' ' ']\n",
      " [' ' ' ' 'X' ' ' ' ']\n",
      " [' ' ' ' ' ' ' ' ' ']\n",
      " [' ' 'O' ' ' ' ' ' ']]\n",
      "horizontal [[2 1 2 2 2]]\n",
      "vertical [[2 0 2 2 1]]\n",
      "action.x 4\n",
      "action.y 1\n",
      "offset -3\n",
      "diagonal_up [[2 1]]\n",
      "diagonal_down [[2 2 2 1]]\n"
     ]
    }
   ],
   "source": [
    "\n",
    "action = agent.choose_action(gs)\n",
    "gs.make_action(action)\n",
    "horizontal = gs.board[action.x]\n",
    "vertical = gs.board[:,action.y]\n",
    "offset = action.y-action.x\n",
    "antioffset = gs.n - 1 - action.y - action.x\n",
    "diagonal_up = gs.board.diagonal(offset)\n",
    "diagonal_down = np.fliplr(gs.board).diagonal(antioffset)\n",
    "\n",
    "\n",
    "gs.view_game_state()\n",
    "print(\"horizontal\", horizontal)\n",
    "print(\"vertical\", vertical.transpose())\n",
    "print(\"action.x\", action.x)\n",
    "print(\"action.y\", action.y)\n",
    "print(\"offset\", offset)\n",
    "print(\"diagonal_up\", diagonal_up)\n",
    "print(\"diagonal_down\", diagonal_down)"
   ]
  }
 ],
 "metadata": {
  "kernelspec": {
   "display_name": "Python 3",
   "language": "python",
   "name": "python3"
  },
  "language_info": {
   "codemirror_mode": {
    "name": "ipython",
    "version": 3
   },
   "file_extension": ".py",
   "mimetype": "text/x-python",
   "name": "python",
   "nbconvert_exporter": "python",
   "pygments_lexer": "ipython3",
   "version": "3.10.2"
  },
  "orig_nbformat": 4,
  "vscode": {
   "interpreter": {
    "hash": "6ecbf9c18c0d04a2116424ae9aa6ca1f2cdd5cba2daaa9a1f143185bb59456a8"
   }
  }
 },
 "nbformat": 4,
 "nbformat_minor": 2
}
