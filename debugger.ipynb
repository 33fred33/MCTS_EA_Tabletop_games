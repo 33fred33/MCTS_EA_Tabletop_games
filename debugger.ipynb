{
 "cells": [
  {
   "cell_type": "code",
   "execution_count": 1,
   "metadata": {},
   "outputs": [],
   "source": [
    "import cProfile\n",
    "import random as rd\n",
    "import time\n",
    "from collections import defaultdict\n",
    "import numpy as np\n",
    "import itertools as it\n",
    "import Utilities.experiment_utils as eu\n",
    "import unit_test as ut\n",
    "import Games.mnk as mnk\n",
    "import Agents.random as arand\n",
    "import Agents.vanilla_mcts as mcts \n",
    "import Agents.siea_mcts as siea_mcts\n",
    "import Games.function_optimisation as fo\n",
    "#cProfile.run(\"wins =  random_games(10000, base_gs)\")"
   ]
  },
  {
   "cell_type": "code",
   "execution_count": null,
   "metadata": {},
   "outputs": [],
   "source": [
    "ut.produce_agent(\"siea_mcts\")\n"
   ]
  },
  {
   "cell_type": "code",
   "execution_count": 3,
   "metadata": {},
   "outputs": [
    {
     "name": "stdout",
     "output_type": "stream",
     "text": [
      "Evolving UCT formula...\n"
     ]
    },
    {
     "ename": "AttributeError",
     "evalue": "'NoneType' object has no attribute 'player_index'",
     "output_type": "error",
     "traceback": [
      "\u001b[1;31m---------------------------------------------------------------------------\u001b[0m",
      "\u001b[1;31mAttributeError\u001b[0m                            Traceback (most recent call last)",
      "\u001b[1;32mc:\\Users\\Fredasus\\Documents\\Gits\\MCTS_EA_Tabletop_games\\debugger.ipynb Cell 3\u001b[0m in \u001b[0;36m<module>\u001b[1;34m\u001b[0m\n\u001b[0;32m      <a href='vscode-notebook-cell:/c%3A/Users/Fredasus/Documents/Gits/MCTS_EA_Tabletop_games/debugger.ipynb#W5sZmlsZQ%3D%3D?line=7'>8</a>\u001b[0m agent0 \u001b[39m=\u001b[39m arand\u001b[39m.\u001b[39mRandomPlayer()\n\u001b[0;32m      <a href='vscode-notebook-cell:/c%3A/Users/Fredasus/Documents/Gits/MCTS_EA_Tabletop_games/debugger.ipynb#W5sZmlsZQ%3D%3D?line=8'>9</a>\u001b[0m game_player \u001b[39m=\u001b[39m eu\u001b[39m.\u001b[39mGamePlayer(game, [agent0, agent1])\n\u001b[1;32m---> <a href='vscode-notebook-cell:/c%3A/Users/Fredasus/Documents/Gits/MCTS_EA_Tabletop_games/debugger.ipynb#W5sZmlsZQ%3D%3D?line=9'>10</a>\u001b[0m game_player\u001b[39m.\u001b[39;49mplay_games(\u001b[39m10\u001b[39;49m, logs\u001b[39m=\u001b[39;49m\u001b[39mTrue\u001b[39;49;00m)\n\u001b[0;32m     <a href='vscode-notebook-cell:/c%3A/Users/Fredasus/Documents/Gits/MCTS_EA_Tabletop_games/debugger.ipynb#W5sZmlsZQ%3D%3D?line=10'>11</a>\u001b[0m game_player\u001b[39m.\u001b[39mlogs_by_action\n",
      "File \u001b[1;32mc:\\Users\\Fredasus\\Documents\\Gits\\MCTS_EA_Tabletop_games\\Utilities\\experiment_utils.py:105\u001b[0m, in \u001b[0;36mGamePlayer.play_games\u001b[1;34m(self, n_games, random_seed, logs)\u001b[0m\n\u001b[0;32m    103\u001b[0m seeds \u001b[39m=\u001b[39m rd\u001b[39m.\u001b[39msample(\u001b[39mrange\u001b[39m(\u001b[39m0\u001b[39m, \u001b[39m2\u001b[39m\u001b[39m*\u001b[39m\u001b[39m*\u001b[39m\u001b[39m32\u001b[39m), n_games)\n\u001b[0;32m    104\u001b[0m \u001b[39mfor\u001b[39;00m i \u001b[39min\u001b[39;00m \u001b[39mrange\u001b[39m(n_games):\n\u001b[1;32m--> 105\u001b[0m     \u001b[39mself\u001b[39;49m\u001b[39m.\u001b[39;49mplay_game(random_seed \u001b[39m=\u001b[39;49m seeds[i], logs \u001b[39m=\u001b[39;49m logs)\n",
      "File \u001b[1;32mc:\\Users\\Fredasus\\Documents\\Gits\\MCTS_EA_Tabletop_games\\Utilities\\experiment_utils.py:66\u001b[0m, in \u001b[0;36mGamePlayer.play_game\u001b[1;34m(self, random_seed, logs)\u001b[0m\n\u001b[0;32m     63\u001b[0m         game_logs \u001b[39m=\u001b[39m pd\u001b[39m.\u001b[39mconcat([game_logs, gs\u001b[39m.\u001b[39mlogs_data()], ignore_index\u001b[39m=\u001b[39m\u001b[39mTrue\u001b[39;00m)\n\u001b[0;32m     65\u001b[0m     \u001b[39m#Make action    \u001b[39;00m\n\u001b[1;32m---> 66\u001b[0m     gs\u001b[39m.\u001b[39;49mmake_action(action)\n\u001b[0;32m     68\u001b[0m \u001b[39mif\u001b[39;00m logs:\n\u001b[0;32m     69\u001b[0m     \u001b[39m#Final logs by action\u001b[39;00m\n\u001b[0;32m     70\u001b[0m     final_logs_by_action \u001b[39m=\u001b[39m pd\u001b[39m.\u001b[39mconcat([action_logs, game_logs], axis\u001b[39m=\u001b[39m\u001b[39m1\u001b[39m)\n",
      "File \u001b[1;32mc:\\Users\\Fredasus\\Documents\\Gits\\MCTS_EA_Tabletop_games\\Games\\mnk.py:111\u001b[0m, in \u001b[0;36mGameState.make_action\u001b[1;34m(self, action)\u001b[0m\n\u001b[0;32m    107\u001b[0m \u001b[39mdef\u001b[39;00m \u001b[39mmake_action\u001b[39m(\u001b[39mself\u001b[39m, action):\n\u001b[0;32m    108\u001b[0m \n\u001b[0;32m    109\u001b[0m     \u001b[39m#Verify move validity\u001b[39;00m\n\u001b[0;32m    110\u001b[0m     \u001b[39massert\u001b[39;00m \u001b[39mself\u001b[39m\u001b[39m.\u001b[39mis_terminal \u001b[39m==\u001b[39m \u001b[39mFalse\u001b[39;00m\n\u001b[1;32m--> 111\u001b[0m     \u001b[39massert\u001b[39;00m action\u001b[39m.\u001b[39;49mplayer_index \u001b[39m==\u001b[39m \u001b[39mself\u001b[39m\u001b[39m.\u001b[39mplayer_turn\n\u001b[0;32m    112\u001b[0m     \u001b[39massert\u001b[39;00m \u001b[39mself\u001b[39m\u001b[39m.\u001b[39mboard[(action\u001b[39m.\u001b[39mx, action\u001b[39m.\u001b[39my)] \u001b[39mis\u001b[39;00m \u001b[39mNone\u001b[39;00m, \u001b[39m\"\u001b[39m\u001b[39mInvalid move:\u001b[39m\u001b[39m\"\u001b[39m \u001b[39m+\u001b[39m \u001b[39mstr\u001b[39m(action)\n\u001b[0;32m    114\u001b[0m     \u001b[39m#Update board\u001b[39;00m\n",
      "\u001b[1;31mAttributeError\u001b[0m: 'NoneType' object has no attribute 'player_index'"
     ]
    }
   ],
   "source": [
    "#tested_agent.evolution_logs\n",
    "#tested_agent.choose_action_logs\n",
    "#print(tested_agent.view_mcts_tree())\n",
    "game = mnk.GameState(3,3,3)\n",
    "game.set_initial_state()\n",
    "agent2 = mcts.MCTS_Player(max_iterations=100, logs=True)\n",
    "agent1 = siea_mcts.SIEA_MCTS_Player(max_iterations=100, logs=True)\n",
    "agent0 = arand.RandomPlayer()\n",
    "game_player = eu.GamePlayer(game, [agent0, agent1])\n",
    "game_player.play_games(10, logs=True)\n",
    "game_player.logs_by_action"
   ]
  },
  {
   "cell_type": "code",
   "execution_count": 2,
   "metadata": {},
   "outputs": [
    {
     "name": "stdout",
     "output_type": "stream",
     "text": [
      "Game tests running\n",
      "Testing game{(0, 0): None, (0, 1): None, (0, 2): None, (1, 0): None, (1, 1): None, (1, 2): None, (2, 0): None, (2, 1): None, (2, 2): None}\n",
      "Testing game{'Player_symbol': 0, 'Dimension0_start': 0, 'Dimension0_end': 1}\n",
      "Testing game{'Player_symbol': 0, 'Dimension0_start': 0, 'Dimension0_end': 1}\n",
      "Testing game{'Player_symbol': 0, 'Dimension0_start': 0, 'Dimension0_end': 1, 'Dimension1_start': 0, 'Dimension1_end': 1}\n",
      "Testing game{'Player_symbol': 0, 'Dimension0_start': 0, 'Dimension0_end': 1, 'Dimension1_start': 0, 'Dimension1_end': 1}\n",
      "Game tests passed\n",
      "Agent tests running\n",
      "Testing agentRandom as second player\n",
      "Testing agentRandom as first player\n",
      "Testing agentVanilla_MCTS as second player\n",
      "Testing agentVanilla_MCTS as first player\n",
      "Testing agentSIEA_MCTS as second player\n",
      "Evolving UCT formula...\n"
     ]
    },
    {
     "ename": "AttributeError",
     "evalue": "'NoneType' object has no attribute 'player_index'",
     "output_type": "error",
     "traceback": [
      "\u001b[1;31m---------------------------------------------------------------------------\u001b[0m",
      "\u001b[1;31mAttributeError\u001b[0m                            Traceback (most recent call last)",
      "\u001b[1;32mc:\\Users\\Fredasus\\Documents\\Gits\\MCTS_EA_Tabletop_games\\debugger.ipynb Cell 4\u001b[0m in \u001b[0;36m<module>\u001b[1;34m\u001b[0m\n\u001b[1;32m----> <a href='vscode-notebook-cell:/c%3A/Users/Fredasus/Documents/Gits/MCTS_EA_Tabletop_games/debugger.ipynb#W6sZmlsZQ%3D%3D?line=0'>1</a>\u001b[0m ut\u001b[39m.\u001b[39;49mrun()\n",
      "File \u001b[1;32mc:\\Users\\Fredasus\\Documents\\Gits\\MCTS_EA_Tabletop_games\\unit_test.py:98\u001b[0m, in \u001b[0;36mrun\u001b[1;34m()\u001b[0m\n\u001b[0;32m     96\u001b[0m \u001b[39mprint\u001b[39m(\u001b[39m\"\u001b[39m\u001b[39mAgent tests running\u001b[39m\u001b[39m\"\u001b[39m)\n\u001b[0;32m     97\u001b[0m \u001b[39mfor\u001b[39;00m agent \u001b[39min\u001b[39;00m [produce_agent(name) \u001b[39mfor\u001b[39;00m name \u001b[39min\u001b[39;00m agent_names]:\n\u001b[1;32m---> 98\u001b[0m     \u001b[39massert\u001b[39;00m test_agent(agent)\n\u001b[0;32m     99\u001b[0m \u001b[39mprint\u001b[39m(\u001b[39m\"\u001b[39m\u001b[39mAgent tests passed\u001b[39m\u001b[39m\"\u001b[39m)\n\u001b[0;32m    101\u001b[0m \u001b[39m#Test experiment_utils\u001b[39;00m\n",
      "File \u001b[1;32mc:\\Users\\Fredasus\\Documents\\Gits\\MCTS_EA_Tabletop_games\\unit_test.py:48\u001b[0m, in \u001b[0;36mtest_agent\u001b[1;34m(agent)\u001b[0m\n\u001b[0;32m     46\u001b[0m     rd\u001b[39m.\u001b[39mseed(rs)\n\u001b[0;32m     47\u001b[0m     duplicate_state \u001b[39m=\u001b[39m state\u001b[39m.\u001b[39mduplicate()\n\u001b[1;32m---> 48\u001b[0m     \u001b[39massert\u001b[39;00m game_can_end_with_agents(duplicate_state, [random_agent, agent], rs), \u001b[39m\"\u001b[39m\u001b[39mGame did not end in 10000 turns. Random seed: \u001b[39m\u001b[39m\"\u001b[39m \u001b[39m+\u001b[39m \u001b[39mstr\u001b[39m(rs) \u001b[39m+\u001b[39m \u001b[39m\"\u001b[39m\u001b[39m. Agent: \u001b[39m\u001b[39m\"\u001b[39m \u001b[39m+\u001b[39m \u001b[39mstr\u001b[39m(agent) \u001b[39m+\u001b[39m \u001b[39m\"\u001b[39m\u001b[39mas second player\u001b[39m\u001b[39m\"\u001b[39m\n\u001b[0;32m     49\u001b[0m \u001b[39mprint\u001b[39m(\u001b[39m\"\u001b[39m\u001b[39mTesting agent\u001b[39m\u001b[39m\"\u001b[39m \u001b[39m+\u001b[39m \u001b[39mstr\u001b[39m(agent) \u001b[39m+\u001b[39m \u001b[39m\"\u001b[39m\u001b[39m as first player\u001b[39m\u001b[39m\"\u001b[39m)\n\u001b[0;32m     50\u001b[0m \u001b[39mfor\u001b[39;00m rs \u001b[39min\u001b[39;00m \u001b[39mrange\u001b[39m(\u001b[39m50\u001b[39m):\n",
      "File \u001b[1;32mc:\\Users\\Fredasus\\Documents\\Gits\\MCTS_EA_Tabletop_games\\unit_test.py:29\u001b[0m, in \u001b[0;36mgame_can_end_with_agents\u001b[1;34m(state, agents, random_seed, max_turns)\u001b[0m\n\u001b[0;32m     27\u001b[0m         \u001b[39massert\u001b[39;00m state\u001b[39m.\u001b[39mturn \u001b[39m>\u001b[39m \u001b[39m1\u001b[39m, \u001b[39m\"\u001b[39m\u001b[39mGame ended in first turn. Random seed: \u001b[39m\u001b[39m\"\u001b[39m \u001b[39m+\u001b[39m \u001b[39mstr\u001b[39m(random_seed) \u001b[39m+\u001b[39m \u001b[39m\"\u001b[39m\u001b[39m. Agents\u001b[39m\u001b[39m\"\u001b[39m \u001b[39m+\u001b[39m \u001b[39mstr\u001b[39m(agent_names)\n\u001b[0;32m     28\u001b[0m         \u001b[39mreturn\u001b[39;00m \u001b[39mTrue\u001b[39;00m\n\u001b[1;32m---> 29\u001b[0m     state\u001b[39m.\u001b[39;49mmake_action(agents[state\u001b[39m.\u001b[39;49mplayer_turn]\u001b[39m.\u001b[39;49mchoose_action(state))\n\u001b[0;32m     30\u001b[0m \u001b[39mreturn\u001b[39;00m \u001b[39mFalse\u001b[39;00m\n",
      "File \u001b[1;32mc:\\Users\\Fredasus\\Documents\\Gits\\MCTS_EA_Tabletop_games\\Games\\mnk.py:111\u001b[0m, in \u001b[0;36mGameState.make_action\u001b[1;34m(self, action)\u001b[0m\n\u001b[0;32m    107\u001b[0m \u001b[39mdef\u001b[39;00m \u001b[39mmake_action\u001b[39m(\u001b[39mself\u001b[39m, action):\n\u001b[0;32m    108\u001b[0m \n\u001b[0;32m    109\u001b[0m     \u001b[39m#Verify move validity\u001b[39;00m\n\u001b[0;32m    110\u001b[0m     \u001b[39massert\u001b[39;00m \u001b[39mself\u001b[39m\u001b[39m.\u001b[39mis_terminal \u001b[39m==\u001b[39m \u001b[39mFalse\u001b[39;00m\n\u001b[1;32m--> 111\u001b[0m     \u001b[39massert\u001b[39;00m action\u001b[39m.\u001b[39;49mplayer_index \u001b[39m==\u001b[39m \u001b[39mself\u001b[39m\u001b[39m.\u001b[39mplayer_turn\n\u001b[0;32m    112\u001b[0m     \u001b[39massert\u001b[39;00m \u001b[39mself\u001b[39m\u001b[39m.\u001b[39mboard[(action\u001b[39m.\u001b[39mx, action\u001b[39m.\u001b[39my)] \u001b[39mis\u001b[39;00m \u001b[39mNone\u001b[39;00m, \u001b[39m\"\u001b[39m\u001b[39mInvalid move:\u001b[39m\u001b[39m\"\u001b[39m \u001b[39m+\u001b[39m \u001b[39mstr\u001b[39m(action)\n\u001b[0;32m    114\u001b[0m     \u001b[39m#Update board\u001b[39;00m\n",
      "\u001b[1;31mAttributeError\u001b[0m: 'NoneType' object has no attribute 'player_index'"
     ]
    }
   ],
   "source": [
    "ut.run()"
   ]
  }
 ],
 "metadata": {
  "kernelspec": {
   "display_name": "Python 3",
   "language": "python",
   "name": "python3"
  },
  "language_info": {
   "codemirror_mode": {
    "name": "ipython",
    "version": 3
   },
   "file_extension": ".py",
   "mimetype": "text/x-python",
   "name": "python",
   "nbconvert_exporter": "python",
   "pygments_lexer": "ipython3",
   "version": "3.10.2"
  },
  "orig_nbformat": 4,
  "vscode": {
   "interpreter": {
    "hash": "6ecbf9c18c0d04a2116424ae9aa6ca1f2cdd5cba2daaa9a1f143185bb59456a8"
   }
  }
 },
 "nbformat": 4,
 "nbformat_minor": 2
}
