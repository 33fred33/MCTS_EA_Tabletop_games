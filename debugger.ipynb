{
 "metadata": {
  "language_info": {
   "codemirror_mode": {
    "name": "ipython",
    "version": 3
   },
   "file_extension": ".py",
   "mimetype": "text/x-python",
   "name": "python",
   "nbconvert_exporter": "python",
   "pygments_lexer": "ipython3",
   "version": "3.9.1"
  },
  "orig_nbformat": 4,
  "kernelspec": {
   "name": "python3",
   "display_name": "Python 3.9.1 64-bit ('Python39')"
  },
  "interpreter": {
   "hash": "ee5cc6fef2d70a7e71ee3826687cbd150f18158e0b1eef11d4f4f92bb920e304"
  }
 },
 "nbformat": 4,
 "nbformat_minor": 2,
 "cells": [
  {
   "cell_type": "code",
   "execution_count": 1,
   "metadata": {},
   "outputs": [],
   "source": [
    "import board_2d as b2d\n",
    "import carcassonne as carc"
   ]
  },
  {
   "cell_type": "code",
   "execution_count": 2,
   "metadata": {},
   "outputs": [
    {
     "output_type": "stream",
     "name": "stdout",
     "text": [
      "played\nadding (0, 1)  to  (c_val:2_owner:None)\n(c_val:2_owner:None)\nadding (-1, 0)  to  (p_val:1_owner:None)\n(p_val:1_owner:None)\nadding (1, 0)  to  (p_val:1_owner:None)\n(p_val:1_owner:None)\nadding (-1, 0)  to  (f_val:0_owner:None)\n(f_val:0_owner:None)\nadding (1, 0)  to  (f_val:0_owner:None)\n(f_val:0_owner:None)\nadding (0, -1)  to  (f_val:0_owner:None)\n(f_val:0_owner:None)\nadding (-1, 0)  to  (f_val:0_owner:None)\n(f_val:0_owner:None)\nadding (1, 0)  to  (f_val:0_owner:None)\n(f_val:0_owner:None)\n"
     ]
    }
   ],
   "source": [
    "board = b2d.Board()\n",
    "gs = carc.Game_state(board)\n",
    "gs.set_initial_state()"
   ]
  },
  {
   "cell_type": "code",
   "execution_count": 4,
   "metadata": {},
   "outputs": [
    {
     "output_type": "stream",
     "name": "stdout",
     "text": [
      "(-1, 0): {'rd': '(f_val:0_owner:None)', 'r': '(p_val:1_owner:None)', 'ru': '(f_val:0_owner:None)'}\n(0, 1): {'d': '(c_val:2_owner:None)'}\n(1, 0): {'lu': '(f_val:0_owner:None)', 'l': '(p_val:1_owner:None)', 'ld': '(f_val:0_owner:None)'}\n(0, -1): {'u': '(f_val:0_owner:None)'}\n"
     ]
    }
   ],
   "source": [
    "#print(gs.board.filled_locations[(0,0)].tile)\n",
    "for coord,loc in gs.board.available_locations.items():\n",
    "    print(loc)\n",
    "    "
   ]
  },
  {
   "cell_type": "code",
   "execution_count": null,
   "metadata": {},
   "outputs": [],
   "source": [
    "print(gs.board)"
   ]
  }
 ]
}