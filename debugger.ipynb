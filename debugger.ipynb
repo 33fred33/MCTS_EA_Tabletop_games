{
 "cells": [
  {
   "cell_type": "code",
   "execution_count": 1,
   "metadata": {},
   "outputs": [],
   "source": [
    "import cProfile\n",
    "import os\n",
    "import random as rd\n",
    "import time\n",
    "import math\n",
    "from collections import defaultdict\n",
    "import numpy as np\n",
    "import itertools as it\n",
    "import Utilities.experiment_utils as eu\n",
    "import unit_test as ut\n",
    "import Games.mnk as mnk\n",
    "import Agents.random as arand\n",
    "import Agents.vanilla_mcts as mcts \n",
    "import Agents.siea_mcts as siea_mcts\n",
    "import Games.function_optimisation as fo\n",
    "import Utilities.logs_management as lm\n",
    "#cProfile.run(\"wins =  random_games(10000, base_gs)\")"
   ]
  },
  {
   "cell_type": "code",
   "execution_count": null,
   "metadata": {},
   "outputs": [],
   "source": [
    "\n",
    "function_index = 1\n",
    "runs = 3\n",
    "random_seed = 1\n",
    "iterations = 50\n",
    "game_state = fo.GameState(function_index=function_index)\n",
    "game_state.set_initial_state()\n",
    "#mcts_player = siea_mcts.SIEA_MCTS_Player(max_iterations=iterations, logs=True)\n",
    "mcts_player = mcts.MCTS_Player(max_iterations=iterations, logs=True)\n",
    "action = eu.mcts_decision_analysis(game_state, \n",
    "                                   mcts_player, \n",
    "                                   os.path.join(\"Outputs\",\"FO_single_decision_5000it\",\"Function_\" + str(function_index), mcts_player.name), \n",
    "                                   runs, \n",
    "                                   random_seed)"
   ]
  },
  {
   "cell_type": "code",
   "execution_count": 2,
   "metadata": {},
   "outputs": [
    {
     "ename": "KeyboardInterrupt",
     "evalue": "",
     "output_type": "error",
     "traceback": [
      "\u001b[1;31m---------------------------------------------------------------------------\u001b[0m",
      "\u001b[1;31mKeyboardInterrupt\u001b[0m                         Traceback (most recent call last)",
      "\u001b[1;32mc:\\Users\\Fredasus\\Documents\\Gits\\MCTS_EA_Tabletop_games\\debugger.ipynb Cell 3\u001b[0m in \u001b[0;36m<module>\u001b[1;34m\u001b[0m\n\u001b[0;32m     <a href='vscode-notebook-cell:/c%3A/Users/Fredasus/Documents/Gits/MCTS_EA_Tabletop_games/debugger.ipynb#X11sZmlsZQ%3D%3D?line=34'>35</a>\u001b[0m game_state\u001b[39m.\u001b[39mset_initial_state()\n\u001b[0;32m     <a href='vscode-notebook-cell:/c%3A/Users/Fredasus/Documents/Gits/MCTS_EA_Tabletop_games/debugger.ipynb#X11sZmlsZQ%3D%3D?line=35'>36</a>\u001b[0m \u001b[39mfor\u001b[39;00m agent \u001b[39min\u001b[39;00m agents:\n\u001b[1;32m---> <a href='vscode-notebook-cell:/c%3A/Users/Fredasus/Documents/Gits/MCTS_EA_Tabletop_games/debugger.ipynb#X11sZmlsZQ%3D%3D?line=36'>37</a>\u001b[0m     action \u001b[39m=\u001b[39m eu\u001b[39m.\u001b[39;49mmcts_decision_analysis(game_state \u001b[39m=\u001b[39;49m game_state,\n\u001b[0;32m     <a href='vscode-notebook-cell:/c%3A/Users/Fredasus/Documents/Gits/MCTS_EA_Tabletop_games/debugger.ipynb#X11sZmlsZQ%3D%3D?line=37'>38</a>\u001b[0m                                          mcts_player \u001b[39m=\u001b[39;49m agent,\n\u001b[0;32m     <a href='vscode-notebook-cell:/c%3A/Users/Fredasus/Documents/Gits/MCTS_EA_Tabletop_games/debugger.ipynb#X11sZmlsZQ%3D%3D?line=38'>39</a>\u001b[0m                                          logs_path \u001b[39m=\u001b[39;49m os\u001b[39m.\u001b[39;49mpath\u001b[39m.\u001b[39;49mjoin(\u001b[39m\"\u001b[39;49m\u001b[39mOutputs\u001b[39;49m\u001b[39m\"\u001b[39;49m,\u001b[39m\"\u001b[39;49m\u001b[39mFO_single_decision_5000it\u001b[39;49m\u001b[39m\"\u001b[39;49m,\u001b[39m\"\u001b[39;49m\u001b[39mFunction_\u001b[39;49m\u001b[39m\"\u001b[39;49m \u001b[39m+\u001b[39;49m \u001b[39mstr\u001b[39;49m(function_index), agent\u001b[39m.\u001b[39;49mname),\n\u001b[0;32m     <a href='vscode-notebook-cell:/c%3A/Users/Fredasus/Documents/Gits/MCTS_EA_Tabletop_games/debugger.ipynb#X11sZmlsZQ%3D%3D?line=39'>40</a>\u001b[0m                                          runs \u001b[39m=\u001b[39;49m runs,\n\u001b[0;32m     <a href='vscode-notebook-cell:/c%3A/Users/Fredasus/Documents/Gits/MCTS_EA_Tabletop_games/debugger.ipynb#X11sZmlsZQ%3D%3D?line=40'>41</a>\u001b[0m                                          random_seed \u001b[39m=\u001b[39;49m random_seed)\n",
      "File \u001b[1;32mc:\\Users\\Fredasus\\Documents\\Gits\\MCTS_EA_Tabletop_games\\Utilities\\experiment_utils.py:208\u001b[0m, in \u001b[0;36mmcts_decision_analysis\u001b[1;34m(game_state, mcts_player, logs_path, runs, random_seed)\u001b[0m\n\u001b[0;32m    206\u001b[0m \u001b[39mfor\u001b[39;00m i \u001b[39min\u001b[39;00m \u001b[39mrange\u001b[39m(runs):\n\u001b[0;32m    207\u001b[0m     action \u001b[39m=\u001b[39m mcts_player\u001b[39m.\u001b[39mchoose_action(game_state)\n\u001b[1;32m--> 208\u001b[0m     run_data \u001b[39m=\u001b[39m tree_data(mcts_player\u001b[39m.\u001b[39;49mroot_node, divisions\u001b[39m=\u001b[39;49m\u001b[39m3\u001b[39;49m)\n\u001b[0;32m    209\u001b[0m     run_data[\u001b[39m\"\u001b[39m\u001b[39mrun\u001b[39m\u001b[39m\"\u001b[39m] \u001b[39m=\u001b[39m [i \u001b[39mfor\u001b[39;00m _ \u001b[39min\u001b[39;00m \u001b[39mrange\u001b[39m(\u001b[39mlen\u001b[39m(run_data))]\n\u001b[0;32m    210\u001b[0m     tree_logs \u001b[39m=\u001b[39m pd\u001b[39m.\u001b[39mconcat([tree_logs, run_data], ignore_index\u001b[39m=\u001b[39m\u001b[39mTrue\u001b[39;00m)\n",
      "File \u001b[1;32mc:\\Users\\Fredasus\\Documents\\Gits\\MCTS_EA_Tabletop_games\\Utilities\\experiment_utils.py:165\u001b[0m, in \u001b[0;36mtree_data\u001b[1;34m(node, divisions)\u001b[0m\n\u001b[0;32m    163\u001b[0m     node_df[\u001b[39m\"\u001b[39m\u001b[39mvisits\u001b[39m\u001b[39m\"\u001b[39m] \u001b[39m=\u001b[39m node\u001b[39m.\u001b[39mvisits\n\u001b[0;32m    164\u001b[0m     node_df[\u001b[39m\"\u001b[39m\u001b[39mavg_reward\u001b[39m\u001b[39m\"\u001b[39m] \u001b[39m=\u001b[39m node\u001b[39m.\u001b[39mtotal_reward \u001b[39m/\u001b[39m node\u001b[39m.\u001b[39mvisits \u001b[39mif\u001b[39;00m node\u001b[39m.\u001b[39mvisits \u001b[39m>\u001b[39m \u001b[39m0\u001b[39m \u001b[39melse\u001b[39;00m np\u001b[39m.\u001b[39mnan\n\u001b[1;32m--> 165\u001b[0m     tree_data \u001b[39m=\u001b[39m pd\u001b[39m.\u001b[39;49mconcat([tree_data, node_df], ignore_index\u001b[39m=\u001b[39;49m\u001b[39mTrue\u001b[39;49;00m)\n\u001b[0;32m    167\u001b[0m \u001b[39mreturn\u001b[39;00m tree_data\n",
      "File \u001b[1;32mc:\\Users\\Fredasus\\AppData\\Local\\Programs\\Python\\Python310\\lib\\site-packages\\pandas\\util\\_decorators.py:311\u001b[0m, in \u001b[0;36mdeprecate_nonkeyword_arguments.<locals>.decorate.<locals>.wrapper\u001b[1;34m(*args, **kwargs)\u001b[0m\n\u001b[0;32m    305\u001b[0m \u001b[39mif\u001b[39;00m \u001b[39mlen\u001b[39m(args) \u001b[39m>\u001b[39m num_allow_args:\n\u001b[0;32m    306\u001b[0m     warnings\u001b[39m.\u001b[39mwarn(\n\u001b[0;32m    307\u001b[0m         msg\u001b[39m.\u001b[39mformat(arguments\u001b[39m=\u001b[39marguments),\n\u001b[0;32m    308\u001b[0m         \u001b[39mFutureWarning\u001b[39;00m,\n\u001b[0;32m    309\u001b[0m         stacklevel\u001b[39m=\u001b[39mstacklevel,\n\u001b[0;32m    310\u001b[0m     )\n\u001b[1;32m--> 311\u001b[0m \u001b[39mreturn\u001b[39;00m func(\u001b[39m*\u001b[39margs, \u001b[39m*\u001b[39m\u001b[39m*\u001b[39mkwargs)\n",
      "File \u001b[1;32mc:\\Users\\Fredasus\\AppData\\Local\\Programs\\Python\\Python310\\lib\\site-packages\\pandas\\core\\reshape\\concat.py:359\u001b[0m, in \u001b[0;36mconcat\u001b[1;34m(objs, axis, join, ignore_index, keys, levels, names, verify_integrity, sort, copy)\u001b[0m\n\u001b[0;32m    155\u001b[0m \u001b[39m\"\"\"\u001b[39;00m\n\u001b[0;32m    156\u001b[0m \u001b[39mConcatenate pandas objects along a particular axis with optional set logic\u001b[39;00m\n\u001b[0;32m    157\u001b[0m \u001b[39malong the other axes.\u001b[39;00m\n\u001b[1;32m   (...)\u001b[0m\n\u001b[0;32m    344\u001b[0m \u001b[39mValueError: Indexes have overlapping values: ['a']\u001b[39;00m\n\u001b[0;32m    345\u001b[0m \u001b[39m\"\"\"\u001b[39;00m\n\u001b[0;32m    346\u001b[0m op \u001b[39m=\u001b[39m _Concatenator(\n\u001b[0;32m    347\u001b[0m     objs,\n\u001b[0;32m    348\u001b[0m     axis\u001b[39m=\u001b[39maxis,\n\u001b[1;32m   (...)\u001b[0m\n\u001b[0;32m    356\u001b[0m     sort\u001b[39m=\u001b[39msort,\n\u001b[0;32m    357\u001b[0m )\n\u001b[1;32m--> 359\u001b[0m \u001b[39mreturn\u001b[39;00m op\u001b[39m.\u001b[39;49mget_result()\n",
      "File \u001b[1;32mc:\\Users\\Fredasus\\AppData\\Local\\Programs\\Python\\Python310\\lib\\site-packages\\pandas\\core\\reshape\\concat.py:592\u001b[0m, in \u001b[0;36m_Concatenator.get_result\u001b[1;34m(self)\u001b[0m\n\u001b[0;32m    588\u001b[0m             indexers[ax] \u001b[39m=\u001b[39m obj_labels\u001b[39m.\u001b[39mget_indexer(new_labels)\n\u001b[0;32m    590\u001b[0m     mgrs_indexers\u001b[39m.\u001b[39mappend((obj\u001b[39m.\u001b[39m_mgr, indexers))\n\u001b[1;32m--> 592\u001b[0m new_data \u001b[39m=\u001b[39m concatenate_managers(\n\u001b[0;32m    593\u001b[0m     mgrs_indexers, \u001b[39mself\u001b[39;49m\u001b[39m.\u001b[39;49mnew_axes, concat_axis\u001b[39m=\u001b[39;49m\u001b[39mself\u001b[39;49m\u001b[39m.\u001b[39;49mbm_axis, copy\u001b[39m=\u001b[39;49m\u001b[39mself\u001b[39;49m\u001b[39m.\u001b[39;49mcopy\n\u001b[0;32m    594\u001b[0m )\n\u001b[0;32m    595\u001b[0m \u001b[39mif\u001b[39;00m \u001b[39mnot\u001b[39;00m \u001b[39mself\u001b[39m\u001b[39m.\u001b[39mcopy:\n\u001b[0;32m    596\u001b[0m     new_data\u001b[39m.\u001b[39m_consolidate_inplace()\n",
      "File \u001b[1;32mc:\\Users\\Fredasus\\AppData\\Local\\Programs\\Python\\Python310\\lib\\site-packages\\pandas\\core\\internals\\concat.py:231\u001b[0m, in \u001b[0;36mconcatenate_managers\u001b[1;34m(mgrs_indexers, axes, concat_axis, copy)\u001b[0m\n\u001b[0;32m    225\u001b[0m vals \u001b[39m=\u001b[39m [ju\u001b[39m.\u001b[39mblock\u001b[39m.\u001b[39mvalues \u001b[39mfor\u001b[39;00m ju \u001b[39min\u001b[39;00m join_units]\n\u001b[0;32m    227\u001b[0m \u001b[39mif\u001b[39;00m \u001b[39mnot\u001b[39;00m blk\u001b[39m.\u001b[39mis_extension:\n\u001b[0;32m    228\u001b[0m     \u001b[39m# _is_uniform_join_units ensures a single dtype, so\u001b[39;00m\n\u001b[0;32m    229\u001b[0m     \u001b[39m#  we can use np.concatenate, which is more performant\u001b[39;00m\n\u001b[0;32m    230\u001b[0m     \u001b[39m#  than concat_compat\u001b[39;00m\n\u001b[1;32m--> 231\u001b[0m     values \u001b[39m=\u001b[39m np\u001b[39m.\u001b[39;49mconcatenate(vals, axis\u001b[39m=\u001b[39;49m\u001b[39m1\u001b[39;49m)\n\u001b[0;32m    232\u001b[0m \u001b[39melse\u001b[39;00m:\n\u001b[0;32m    233\u001b[0m     \u001b[39m# TODO(EA2D): special-casing not needed with 2D EAs\u001b[39;00m\n\u001b[0;32m    234\u001b[0m     values \u001b[39m=\u001b[39m concat_compat(vals, axis\u001b[39m=\u001b[39m\u001b[39m1\u001b[39m)\n",
      "File \u001b[1;32m<__array_function__ internals>:180\u001b[0m, in \u001b[0;36mconcatenate\u001b[1;34m(*args, **kwargs)\u001b[0m\n",
      "\u001b[1;31mKeyboardInterrupt\u001b[0m: "
     ]
    }
   ],
   "source": [
    "#FOP experiment\n",
    "random_seed = 1\n",
    "runs = 30\n",
    "iterations = 5000\n",
    "es_lambda = 4\n",
    "es_fitness_iterations = 30\n",
    "es_generations = 20\n",
    "c_list = [0.5, 1, math.sqrt(2),2,3]\n",
    "c_names = [\"0_5\", \"1\", \"1_4142\", \"2\", \"3\"]\n",
    "agents = []\n",
    "function_indexes = []\n",
    "function_indexes = [0,1,2,3,4]\n",
    "function_indexes += [5,6,7,8,9]\n",
    "\n",
    "agents = [mcts.MCTS_Player(max_iterations=iterations, \n",
    "                           logs=True, \n",
    "                           c=c, \n",
    "                           name = \"MCTS_c\" + c_names[i]) for i,c in enumerate(c_list)]\n",
    "agents = agents + [siea_mcts.SIEA_MCTS_Player(max_iterations=its, \n",
    "                                         es_lambda=es_lambda, \n",
    "                                         es_fitness_iterations=es_fitness_iterations,\n",
    "                                        es_generations=es_generations,\n",
    "                                        name = \"SIEA_MCTS_its\" + str(its),\n",
    "                                         logs=True) for its in [iterations, iterations-(es_fitness_iterations*es_generations*es_lambda)]]\n",
    "agents = agents + [siea_mcts.SIEA_MCTS_Player(max_iterations=its, \n",
    "                                         es_lambda=es_lambda, \n",
    "                                         es_fitness_iterations=es_fitness_iterations,\n",
    "                                        es_generations=es_generations,\n",
    "                                        name = \"EA_MCTS_its\" + str(its),\n",
    "                                        use_semantics=False,\n",
    "                                         logs=True) for its in [iterations, iterations-(es_fitness_iterations*es_generations*es_lambda)]]\n",
    "                                        \n",
    "for function_index in function_indexes:\n",
    "    game_state = fo.GameState(function_index=function_index, n_players=1)\n",
    "    game_state.set_initial_state()\n",
    "    for agent in agents:\n",
    "        action = eu.mcts_decision_analysis(game_state = game_state,\n",
    "                                             mcts_player = agent,\n",
    "                                             logs_path = os.path.join(\"Outputs\",\"FO_single_decision_5000_new\",\"Function_\" + str(function_index), agent.name),\n",
    "                                             runs = runs,\n",
    "                                             random_seed = random_seed)                                        \n",
    "\n"
   ]
  },
  {
   "cell_type": "code",
   "execution_count": 2,
   "metadata": {},
   "outputs": [],
   "source": [
    "#tested_agent.evolution_logs\n",
    "#tested_agent.choose_action_logs\n",
    "#print(tested_agent.view_mcts_tree())\n",
    "game = mnk.GameState(11,11,5)\n",
    "game.set_initial_state()\n",
    "agent2 = mcts.MCTS_Player(max_iterations=500, rollouts = 50, logs=True)\n",
    "agent1 = siea_mcts.SIEA_MCTS_Player(max_iterations=500, rollouts = 50, logs=True)\n",
    "agent0 = arand.RandomPlayer()\n",
    "game_player = eu.GamePlayer(game, [agent2, agent1])\n",
    "game_player.play_games(50, logs=True)\n",
    "#game_player.logs_by_action\n",
    "game_player.save_data(os.path.join(\"Outputs\",\"MNK_500it_50r\", str(game_player)))\n",
    "\n",
    "game_player = eu.GamePlayer(game, [agent1, agent2])\n",
    "game_player.play_games(50, logs=True)\n",
    "#game_player.logs_by_action\n",
    "game_player.save_data(os.path.join(\"Outputs\",\"MNK_500it_50r\", str(game_player)))"
   ]
  },
  {
   "cell_type": "code",
   "execution_count": null,
   "metadata": {},
   "outputs": [],
   "source": [
    "ut.run()"
   ]
  }
 ],
 "metadata": {
  "kernelspec": {
   "display_name": "Python 3",
   "language": "python",
   "name": "python3"
  },
  "language_info": {
   "codemirror_mode": {
    "name": "ipython",
    "version": 3
   },
   "file_extension": ".py",
   "mimetype": "text/x-python",
   "name": "python",
   "nbconvert_exporter": "python",
   "pygments_lexer": "ipython3",
   "version": "3.10.2"
  },
  "orig_nbformat": 4,
  "vscode": {
   "interpreter": {
    "hash": "6ecbf9c18c0d04a2116424ae9aa6ca1f2cdd5cba2daaa9a1f143185bb59456a8"
   }
  }
 },
 "nbformat": 4,
 "nbformat_minor": 2
}
