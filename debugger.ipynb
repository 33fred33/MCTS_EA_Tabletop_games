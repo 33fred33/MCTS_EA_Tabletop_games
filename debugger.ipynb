{
 "cells": [
  {
   "cell_type": "code",
   "execution_count": 1,
   "metadata": {},
   "outputs": [],
   "source": [
    "import cProfile\n",
    "import random as rd\n",
    "import time\n",
    "from collections import defaultdict\n",
    "import numpy as np\n",
    "from itertools import cycle\n",
    "import Utilities.experiment_utils as eu\n",
    "\n",
    "import Games.mnk as mnk\n",
    "import Agents.random as arand\n",
    "import Agents.vanilla_mcts as mcts \n",
    "#import carcassonne as carc"
   ]
  },
  {
   "attachments": {},
   "cell_type": "markdown",
   "metadata": {},
   "source": [
    "TEST MCTS BY ITERATION "
   ]
  },
  {
   "cell_type": "code",
   "execution_count": null,
   "metadata": {},
   "outputs": [],
   "source": [
    "\n",
    "base_gs = mnk.GameState(3,3,3)\n",
    "base_gs.set_initial_state()\n",
    "root_node = mcts.Node(state=base_gs)\n",
    "mcts_agent = mcts.MCTS_Player(rollouts=50, c=1, max_iterations=-1, default_policy = arand.RandomPlayer())\n",
    "_ = mcts_agent.choose_action(base_gs)"
   ]
  },
  {
   "cell_type": "code",
   "execution_count": null,
   "metadata": {},
   "outputs": [],
   "source": [
    "#Test mcts by iteration\n",
    "mcts_agent.iteration(mcts_agent.root_node)\n",
    "print(mcts_agent.view_mcts_tree())"
   ]
  },
  {
   "attachments": {},
   "cell_type": "markdown",
   "metadata": {},
   "source": [
    "Games"
   ]
  },
  {
   "cell_type": "code",
   "execution_count": 32,
   "metadata": {},
   "outputs": [
    {
     "name": "stdout",
     "output_type": "stream",
     "text": [
      "None\n",
      "[['X' 'O' 'O']\n",
      " ['O' 'X' 'X']\n",
      " ['X' 'X' 'O']]\n",
      "         player player_turn chosen_action turn had_n_options      time  \\\n",
      "0  Vanilla_MCTS           0    (x1,y1,t0)    1             9  0.084775   \n",
      "1  Vanilla_MCTS           1    (x0,y2,t1)    2             8  0.062868   \n",
      "2  Vanilla_MCTS           0    (x2,y1,t0)    3             7  0.041871   \n",
      "3  Vanilla_MCTS           1    (x0,y1,t1)    4             6  0.020959   \n",
      "4  Vanilla_MCTS           0    (x0,y0,t0)    5             5  0.022907   \n",
      "5  Vanilla_MCTS           1    (x2,y2,t1)    6             4  0.008009   \n",
      "6  Vanilla_MCTS           0    (x1,y2,t0)    7             3  0.007978   \n",
      "7  Vanilla_MCTS           1    (x1,y0,t1)    8             2  0.001002   \n",
      "8  Vanilla_MCTS           0    (x2,y0,t0)    9             1       0.0   \n",
      "\n",
      "  random_seed  \n",
      "0           5  \n",
      "1           5  \n",
      "2           5  \n",
      "3           5  \n",
      "4           5  \n",
      "5           5  \n",
      "6           5  \n",
      "7           5  \n",
      "8           5  \n"
     ]
    }
   ],
   "source": [
    "base_gs = mnk.GameState(3,3,3)\n",
    "base_gs.set_initial_state()\n",
    "agent1 = mcts.MCTS_Player(rollouts=100, c=1, max_iterations=20, default_policy=arand.RandomPlayer())\n",
    "agent2 = mcts.MCTS_Player(rollouts=20, c=1, max_iterations=100, default_policy=arand.RandomPlayer())\n",
    "players = [agent1,agent2]\n",
    "gs,logs = eu.play_game(base_gs, players, 5, True)\n",
    "print(gs.winner)\n",
    "gs.view_game_state()\n",
    "print(logs)"
   ]
  },
  {
   "cell_type": "code",
   "execution_count": null,
   "metadata": {},
   "outputs": [],
   "source": [
    "base_gs = mnk.GameState(3,3,3)\n",
    "base_gs.set_initial_state()\n",
    "start = time.time()\n",
    "games = 0\n",
    "agent = arand.RandomPlayer()\n",
    "wins = defaultdict(lambda: 0)\n",
    "\n",
    "def random_games(games, state):\n",
    "    wins = defaultdict(lambda:0)\n",
    "    #aan = []\n",
    "    for _ in range(games):\n",
    "        gs = state.duplicate()\n",
    "        #aan.append(len(gs.available_actions))\n",
    "        while not gs.is_terminal:\n",
    "            action = agent.choose_action(gs)\n",
    "            gs.make_action(action)\n",
    "        wins[gs.winner] += 1\n",
    "        gs.view_game_state()\n",
    "    #print(aan)\n",
    "    return wins\n",
    "\n",
    "def random_game(state):\n",
    "    gs = state.duplicate()\n",
    "    while not gs.is_terminal:\n",
    "        action = agent.choose_action(gs)\n",
    "        gs.make_action(action)\n",
    "    return gs\n",
    "\n",
    "\n",
    "wins =  random_games(10, base_gs)\n",
    "print(str(wins))"
   ]
  },
  {
   "cell_type": "code",
   "execution_count": 4,
   "metadata": {},
   "outputs": [
    {
     "name": "stdout",
     "output_type": "stream",
     "text": [
      "         10264365 function calls in 12.952 seconds\n",
      "\n",
      "   Ordered by: standard name\n",
      "\n",
      "   ncalls  tottime  percall  cumtime  percall filename:lineno(function)\n",
      "        1    0.623    0.623   12.952   12.952 1794207304.py:8(random_games)\n",
      "        2    0.000    0.000    0.000    0.000 1794207304.py:9(<lambda>)\n",
      "        1    0.000    0.000   12.952   12.952 <string>:1(<module>)\n",
      "   878085    0.971    0.000    4.956    0.000 mnk.py:105(_update_available_actions)\n",
      "   878085    3.867    0.000    3.867    0.000 mnk.py:106(<listcomp>)\n",
      "   888085    4.734    0.000    9.781    0.000 mnk.py:108(make_action)\n",
      "    10000    0.064    0.000    0.643    0.000 mnk.py:157(duplicate)\n",
      "    20000    0.332    0.000    0.332    0.000 mnk.py:161(<dictcomp>)\n",
      "    10000    0.060    0.000    0.060    0.000 mnk.py:162(<listcomp>)\n",
      "    10000    0.171    0.000    0.171    0.000 mnk.py:163(<dictcomp>)\n",
      "    10000    0.011    0.000    0.011    0.000 mnk.py:37(__init__)\n",
      "   888085    0.659    0.000    0.936    0.000 random.py:239(_randbelow_with_getrandbits)\n",
      "   888085    0.490    0.000    1.525    0.000 random.py:375(choice)\n",
      "   888085    0.380    0.000    1.905    0.000 random.py:7(choose_action)\n",
      "        1    0.000    0.000   12.952   12.952 {built-in method builtins.exec}\n",
      "  1766170    0.189    0.000    0.189    0.000 {built-in method builtins.len}\n",
      "   888085    0.109    0.000    0.109    0.000 {method 'bit_length' of 'int' objects}\n",
      "        1    0.000    0.000    0.000    0.000 {method 'disable' of '_lsprof.Profiler' objects}\n",
      "  1333509    0.168    0.000    0.168    0.000 {method 'getrandbits' of '_random.Random' objects}\n",
      "    30000    0.005    0.000    0.005    0.000 {method 'items' of 'dict' objects}\n",
      "   878085    0.118    0.000    0.118    0.000 {method 'values' of 'dict' objects}\n",
      "\n",
      "\n"
     ]
    }
   ],
   "source": [
    "\n",
    "\n",
    "cProfile.run(\"wins =  random_games(10000, base_gs)\")"
   ]
  }
 ],
 "metadata": {
  "kernelspec": {
   "display_name": "Python 3",
   "language": "python",
   "name": "python3"
  },
  "language_info": {
   "codemirror_mode": {
    "name": "ipython",
    "version": 3
   },
   "file_extension": ".py",
   "mimetype": "text/x-python",
   "name": "python",
   "nbconvert_exporter": "python",
   "pygments_lexer": "ipython3",
   "version": "3.10.2"
  },
  "orig_nbformat": 4,
  "vscode": {
   "interpreter": {
    "hash": "6ecbf9c18c0d04a2116424ae9aa6ca1f2cdd5cba2daaa9a1f143185bb59456a8"
   }
  }
 },
 "nbformat": 4,
 "nbformat_minor": 2
}
