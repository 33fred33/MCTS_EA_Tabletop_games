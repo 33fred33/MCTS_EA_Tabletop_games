{
 "cells": [
  {
   "cell_type": "code",
   "execution_count": 1,
   "metadata": {},
   "outputs": [],
   "source": [
    "import cProfile\n",
    "import random as rd\n",
    "import time\n",
    "from collections import defaultdict\n",
    "import numpy as np\n",
    "import itertools as it\n",
    "import Utilities.experiment_utils as eu\n",
    "import unit_test as ut\n",
    "\n",
    "import Games.mnk as mnk\n",
    "import Agents.random as arand\n",
    "import Agents.vanilla_mcts as mcts \n",
    "import Games.function_optimisation as fo\n",
    "#import carcassonne as carc"
   ]
  },
  {
   "cell_type": "code",
   "execution_count": 2,
   "metadata": {},
   "outputs": [
    {
     "name": "stdout",
     "output_type": "stream",
     "text": [
      "data in game {(0, 0): None, (0, 1): None, (0, 2): None, (1, 0): None, (1, 1): None, (1, 2): None, (2, 0): None, (2, 1): None, (2, 2): None, 'Score_p0': None, 'Score_p1': None, 'Turn': 1, 'N_available_actions': 9}\n",
      "  (0, 0) (0, 1) (0, 2) (1, 0) (1, 1) (1, 2) (2, 0) (2, 1) (2, 2) Score_p0  \\\n",
      "0   None   None   None   None   None   None   None   None   None     None   \n",
      "\n",
      "  Score_p1  Turn  N_available_actions  \n",
      "0     None     1                    9  \n"
     ]
    }
   ],
   "source": [
    "game = ut.produce_game(\"mnk\")\n",
    "print(game.logs_data())"
   ]
  },
  {
   "cell_type": "code",
   "execution_count": null,
   "metadata": {},
   "outputs": [],
   "source": [
    "ut.test_mcts_tree(game_name=\"fo1d1p\")\n",
    "ut.run()"
   ]
  },
  {
   "cell_type": "code",
   "execution_count": null,
   "metadata": {},
   "outputs": [],
   "source": [
    "base_gs = mnk.GameState(3,3,3)\n",
    "base_gs.set_initial_state()\n",
    "agent1 = mcts.MCTS_Player(rollouts=100, c=1, max_iterations=20, default_policy=arand.RandomPlayer())\n",
    "agent2 = mcts.MCTS_Player(rollouts=20, c=1, max_iterations=100, default_policy=arand.RandomPlayer())\n",
    "players = [agent1,agent2]\n",
    "gs,logs = eu.play_game(base_gs, players, 5, True)\n",
    "print(gs.winner)\n",
    "gs.view_game_state()\n",
    "print(logs)"
   ]
  },
  {
   "cell_type": "code",
   "execution_count": 4,
   "metadata": {},
   "outputs": [
    {
     "name": "stdout",
     "output_type": "stream",
     "text": [
      "         10264365 function calls in 12.952 seconds\n",
      "\n",
      "   Ordered by: standard name\n",
      "\n",
      "   ncalls  tottime  percall  cumtime  percall filename:lineno(function)\n",
      "        1    0.623    0.623   12.952   12.952 1794207304.py:8(random_games)\n",
      "        2    0.000    0.000    0.000    0.000 1794207304.py:9(<lambda>)\n",
      "        1    0.000    0.000   12.952   12.952 <string>:1(<module>)\n",
      "   878085    0.971    0.000    4.956    0.000 mnk.py:105(_update_available_actions)\n",
      "   878085    3.867    0.000    3.867    0.000 mnk.py:106(<listcomp>)\n",
      "   888085    4.734    0.000    9.781    0.000 mnk.py:108(make_action)\n",
      "    10000    0.064    0.000    0.643    0.000 mnk.py:157(duplicate)\n",
      "    20000    0.332    0.000    0.332    0.000 mnk.py:161(<dictcomp>)\n",
      "    10000    0.060    0.000    0.060    0.000 mnk.py:162(<listcomp>)\n",
      "    10000    0.171    0.000    0.171    0.000 mnk.py:163(<dictcomp>)\n",
      "    10000    0.011    0.000    0.011    0.000 mnk.py:37(__init__)\n",
      "   888085    0.659    0.000    0.936    0.000 random.py:239(_randbelow_with_getrandbits)\n",
      "   888085    0.490    0.000    1.525    0.000 random.py:375(choice)\n",
      "   888085    0.380    0.000    1.905    0.000 random.py:7(choose_action)\n",
      "        1    0.000    0.000   12.952   12.952 {built-in method builtins.exec}\n",
      "  1766170    0.189    0.000    0.189    0.000 {built-in method builtins.len}\n",
      "   888085    0.109    0.000    0.109    0.000 {method 'bit_length' of 'int' objects}\n",
      "        1    0.000    0.000    0.000    0.000 {method 'disable' of '_lsprof.Profiler' objects}\n",
      "  1333509    0.168    0.000    0.168    0.000 {method 'getrandbits' of '_random.Random' objects}\n",
      "    30000    0.005    0.000    0.005    0.000 {method 'items' of 'dict' objects}\n",
      "   878085    0.118    0.000    0.118    0.000 {method 'values' of 'dict' objects}\n",
      "\n",
      "\n"
     ]
    }
   ],
   "source": [
    "cProfile.run(\"wins =  random_games(10000, base_gs)\")"
   ]
  }
 ],
 "metadata": {
  "kernelspec": {
   "display_name": "Python 3",
   "language": "python",
   "name": "python3"
  },
  "language_info": {
   "codemirror_mode": {
    "name": "ipython",
    "version": 3
   },
   "file_extension": ".py",
   "mimetype": "text/x-python",
   "name": "python",
   "nbconvert_exporter": "python",
   "pygments_lexer": "ipython3",
   "version": "3.10.2"
  },
  "orig_nbformat": 4,
  "vscode": {
   "interpreter": {
    "hash": "6ecbf9c18c0d04a2116424ae9aa6ca1f2cdd5cba2daaa9a1f143185bb59456a8"
   }
  }
 },
 "nbformat": 4,
 "nbformat_minor": 2
}
