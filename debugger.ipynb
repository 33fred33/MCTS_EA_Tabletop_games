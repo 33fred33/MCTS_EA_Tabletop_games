{
 "cells": [
  {
   "cell_type": "code",
   "execution_count": 3,
   "metadata": {},
   "outputs": [],
   "source": [
    "import cProfile\n",
    "import random as rd\n",
    "import time\n",
    "from collections import defaultdict\n",
    "import numpy as np\n",
    "from itertools import cycle\n",
    "\n",
    "import Games.mnk as mnk\n",
    "import Agents.random as arand\n",
    "import Agents.vanilla_mcts as mcts\n",
    "#import carcassonne as carc"
   ]
  },
  {
   "cell_type": "code",
   "execution_count": null,
   "metadata": {},
   "outputs": [],
   "source": [
    "def play_game(state, players):\n",
    "    gs = state.duplicate()\n",
    "    while not gs.is_terminal:\n",
    "        action = players[gs.player_turn].choose_action(gs)\n",
    "        gs.make_action(action)\n",
    "        print(\"player\", gs.player_turn, \"plays\", action.x, action.y)\n",
    "    return gs\n",
    "\n",
    "base_gs = mnk.GameState(13,13,5)\n",
    "base_gs.set_initial_state()\n",
    "agent1 = arand.RandomPlayer()\n",
    "agent2 = mcts.MCTS_Player(rollouts=100, c=1, max_iterations=50, default_policy=arand.RandomPlayer())\n",
    "players = [agent1,agent2]\n",
    "gs = play_game(base_gs, players)\n",
    "gs.view_game_state()"
   ]
  },
  {
   "cell_type": "code",
   "execution_count": 3,
   "metadata": {},
   "outputs": [
    {
     "name": "stdout",
     "output_type": "stream",
     "text": [
      "defaultdict(<function random_games.<locals>.<lambda> at 0x00000214610ADD80>, {0: 531, 1: 469})\n"
     ]
    }
   ],
   "source": [
    "base_gs = mnk.GameState(13,13,5)\n",
    "base_gs.set_initial_state()\n",
    "start = time.time()\n",
    "games = 0\n",
    "agent = arand.RandomPlayer()\n",
    "wins = defaultdict(lambda: 0)\n",
    "\n",
    "def random_games(games, state):\n",
    "    wins = defaultdict(lambda:0)\n",
    "    #aan = []\n",
    "    for _ in range(games):\n",
    "        gs = state.duplicate()\n",
    "        #aan.append(len(gs.available_actions))\n",
    "        while not gs.is_terminal:\n",
    "            action = agent.choose_action(gs)\n",
    "            gs.make_action(action)\n",
    "        wins[gs.winner] += 1\n",
    "        #gs.view_game_state()\n",
    "    #print(aan)\n",
    "    return wins\n",
    "\n",
    "def random_game(state):\n",
    "    gs = state.duplicate()\n",
    "    while not gs.is_terminal:\n",
    "        action = agent.choose_action(gs)\n",
    "        gs.make_action(action)\n",
    "    return gs\n",
    "\n",
    "\n",
    "wins =  random_games(1000, base_gs)\n",
    "print(str(wins))"
   ]
  },
  {
   "cell_type": "code",
   "execution_count": 4,
   "metadata": {},
   "outputs": [
    {
     "name": "stdout",
     "output_type": "stream",
     "text": [
      "         10264365 function calls in 12.952 seconds\n",
      "\n",
      "   Ordered by: standard name\n",
      "\n",
      "   ncalls  tottime  percall  cumtime  percall filename:lineno(function)\n",
      "        1    0.623    0.623   12.952   12.952 1794207304.py:8(random_games)\n",
      "        2    0.000    0.000    0.000    0.000 1794207304.py:9(<lambda>)\n",
      "        1    0.000    0.000   12.952   12.952 <string>:1(<module>)\n",
      "   878085    0.971    0.000    4.956    0.000 mnk.py:105(_update_available_actions)\n",
      "   878085    3.867    0.000    3.867    0.000 mnk.py:106(<listcomp>)\n",
      "   888085    4.734    0.000    9.781    0.000 mnk.py:108(make_action)\n",
      "    10000    0.064    0.000    0.643    0.000 mnk.py:157(duplicate)\n",
      "    20000    0.332    0.000    0.332    0.000 mnk.py:161(<dictcomp>)\n",
      "    10000    0.060    0.000    0.060    0.000 mnk.py:162(<listcomp>)\n",
      "    10000    0.171    0.000    0.171    0.000 mnk.py:163(<dictcomp>)\n",
      "    10000    0.011    0.000    0.011    0.000 mnk.py:37(__init__)\n",
      "   888085    0.659    0.000    0.936    0.000 random.py:239(_randbelow_with_getrandbits)\n",
      "   888085    0.490    0.000    1.525    0.000 random.py:375(choice)\n",
      "   888085    0.380    0.000    1.905    0.000 random.py:7(choose_action)\n",
      "        1    0.000    0.000   12.952   12.952 {built-in method builtins.exec}\n",
      "  1766170    0.189    0.000    0.189    0.000 {built-in method builtins.len}\n",
      "   888085    0.109    0.000    0.109    0.000 {method 'bit_length' of 'int' objects}\n",
      "        1    0.000    0.000    0.000    0.000 {method 'disable' of '_lsprof.Profiler' objects}\n",
      "  1333509    0.168    0.000    0.168    0.000 {method 'getrandbits' of '_random.Random' objects}\n",
      "    30000    0.005    0.000    0.005    0.000 {method 'items' of 'dict' objects}\n",
      "   878085    0.118    0.000    0.118    0.000 {method 'values' of 'dict' objects}\n",
      "\n",
      "\n"
     ]
    }
   ],
   "source": [
    "cProfile.run(\"wins =  random_games(10000, base_gs)\")"
   ]
  },
  {
   "cell_type": "code",
   "execution_count": 5,
   "metadata": {},
   "outputs": [
    {
     "name": "stdout",
     "output_type": "stream",
     "text": [
      "defaultdict(<function random_games.<locals>.<lambda> at 0x000001AF1C4F5820>, {0: 491, 1: 509})\n"
     ]
    }
   ],
   "source": [
    "wins =  random_games(1000, base_gs)\n",
    "print(wins)"
   ]
  },
  {
   "cell_type": "code",
   "execution_count": 4,
   "metadata": {},
   "outputs": [],
   "source": [
    "base_gs = mnk.GameState(5,5,3)\n",
    "base_gs.set_initial_state()\n",
    "agent = ag.RandomPlayer()\n",
    "gs = base_gs.duplicate()"
   ]
  },
  {
   "cell_type": "code",
   "execution_count": 8,
   "metadata": {},
   "outputs": [
    {
     "name": "stdout",
     "output_type": "stream",
     "text": [
      "[[' ' ' ' ' ' ' ' ' ']\n",
      " ['O' 'X' ' ' ' ' ' ']\n",
      " [' ' ' ' 'X' ' ' ' ']\n",
      " [' ' ' ' ' ' ' ' ' ']\n",
      " [' ' 'O' ' ' ' ' ' ']]\n",
      "horizontal [[2 1 2 2 2]]\n",
      "vertical [[2 0 2 2 1]]\n",
      "action.x 4\n",
      "action.y 1\n",
      "offset -3\n",
      "diagonal_up [[2 1]]\n",
      "diagonal_down [[2 2 2 1]]\n"
     ]
    }
   ],
   "source": [
    "\n",
    "action = agent.choose_action(gs)\n",
    "gs.make_action(action)\n",
    "horizontal = gs.board[action.x]\n",
    "vertical = gs.board[:,action.y]\n",
    "offset = action.y-action.x\n",
    "antioffset = gs.n - 1 - action.y - action.x\n",
    "diagonal_up = gs.board.diagonal(offset)\n",
    "diagonal_down = np.fliplr(gs.board).diagonal(antioffset)\n",
    "\n",
    "\n",
    "gs.view_game_state()\n",
    "print(\"horizontal\", horizontal)\n",
    "print(\"vertical\", vertical.transpose())\n",
    "print(\"action.x\", action.x)\n",
    "print(\"action.y\", action.y)\n",
    "print(\"offset\", offset)\n",
    "print(\"diagonal_up\", diagonal_up)\n",
    "print(\"diagonal_down\", diagonal_down)"
   ]
  }
 ],
 "metadata": {
  "kernelspec": {
   "display_name": "Python 3",
   "language": "python",
   "name": "python3"
  },
  "language_info": {
   "codemirror_mode": {
    "name": "ipython",
    "version": 3
   },
   "file_extension": ".py",
   "mimetype": "text/x-python",
   "name": "python",
   "nbconvert_exporter": "python",
   "pygments_lexer": "ipython3",
   "version": "3.10.2"
  },
  "orig_nbformat": 4,
  "vscode": {
   "interpreter": {
    "hash": "6ecbf9c18c0d04a2116424ae9aa6ca1f2cdd5cba2daaa9a1f143185bb59456a8"
   }
  }
 },
 "nbformat": 4,
 "nbformat_minor": 2
}
