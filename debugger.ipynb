{
 "cells": [
  {
   "cell_type": "code",
   "execution_count": 1,
   "metadata": {},
   "outputs": [],
   "source": [
    "import cProfile\n",
    "import os\n",
    "import random as rd\n",
    "import time\n",
    "from collections import defaultdict\n",
    "import numpy as np\n",
    "import itertools as it\n",
    "import Utilities.experiment_utils as eu\n",
    "import unit_test as ut\n",
    "import Games.mnk as mnk\n",
    "import Agents.random as arand\n",
    "import Agents.vanilla_mcts as mcts \n",
    "import Agents.siea_mcts as siea_mcts\n",
    "import Games.function_optimisation as fo\n",
    "#cProfile.run(\"wins =  random_games(10000, base_gs)\")"
   ]
  },
  {
   "cell_type": "code",
   "execution_count": 2,
   "metadata": {},
   "outputs": [],
   "source": [
    "#tested_agent.evolution_logs\n",
    "#tested_agent.choose_action_logs\n",
    "#print(tested_agent.view_mcts_tree())\n",
    "game = mnk.GameState(13,13,5)\n",
    "game.set_initial_state()\n",
    "agent2 = mcts.MCTS_Player(max_iterations=100, logs=True)\n",
    "agent1 = siea_mcts.SIEA_MCTS_Player(max_iterations=100, logs=True)\n",
    "agent0 = arand.RandomPlayer()\n",
    "game_player = eu.GamePlayer(game, [agent2, agent1])\n",
    "game_player.play_games(50, logs=True)\n",
    "#game_player.logs_by_action\n",
    "game_player.save_data(os.path.join(\"Outputs\",\"Test_game_player\"))\n",
    "\n",
    "game_player = eu.GamePlayer(game, [agent1, agent2])\n",
    "game_player.play_games(50, logs=True)\n",
    "#game_player.logs_by_action\n",
    "game_player.save_data(os.path.join(\"Outputs\",\"Test_game_player\"))"
   ]
  },
  {
   "cell_type": "code",
   "execution_count": null,
   "metadata": {},
   "outputs": [],
   "source": [
    "ut.run()"
   ]
  }
 ],
 "metadata": {
  "kernelspec": {
   "display_name": "Python 3",
   "language": "python",
   "name": "python3"
  },
  "language_info": {
   "codemirror_mode": {
    "name": "ipython",
    "version": 3
   },
   "file_extension": ".py",
   "mimetype": "text/x-python",
   "name": "python",
   "nbconvert_exporter": "python",
   "pygments_lexer": "ipython3",
   "version": "3.10.2"
  },
  "orig_nbformat": 4,
  "vscode": {
   "interpreter": {
    "hash": "6ecbf9c18c0d04a2116424ae9aa6ca1f2cdd5cba2daaa9a1f143185bb59456a8"
   }
  }
 },
 "nbformat": 4,
 "nbformat_minor": 2
}
