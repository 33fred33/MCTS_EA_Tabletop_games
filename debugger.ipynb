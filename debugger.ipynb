{
 "cells": [
  {
   "cell_type": "code",
   "execution_count": 1,
   "metadata": {},
   "outputs": [],
   "source": [
    "import cProfile\n",
    "import os\n",
    "import random as rd\n",
    "import time\n",
    "import pandas as pd\n",
    "import math\n",
    "from collections import defaultdict\n",
    "import numpy as np\n",
    "import itertools as it\n",
    "import Utilities.experiment_utils as eu\n",
    "import unit_test as ut\n",
    "import Games.mnk as mnk\n",
    "import Agents.random as arand\n",
    "import Agents.vanilla_mcts as mcts \n",
    "import Agents.siea_mcts as siea_mcts\n",
    "import Games.function_optimisation as fo\n",
    "import Utilities.logs_management as lm\n",
    "#cProfile.run(\"wins =  random_games(10000, base_gs)\")"
   ]
  },
  {
   "cell_type": "code",
   "execution_count": null,
   "metadata": {},
   "outputs": [],
   "source": [
    "#Unit test\n",
    "#ut.run(agent_names = [\"siea_mcts_unpaired\"])\n",
    "#ut.test_tree_cloning()\n",
    "#ut.test_fm_calls()\n",
    "ut.run()"
   ]
  },
  {
   "cell_type": "code",
   "execution_count": null,
   "metadata": {},
   "outputs": [],
   "source": [
    "experiment_path = os.path.join(\"Outputs\",\"FO_single_decision_5000\")\n",
    "file_path_list = lm.find_log_files(\"tree_data.csv\", experiment_path)\n",
    "print([\"\\n\" + f for f in file_path_list])\n",
    "for function_index in [1,3]:\n",
    "  data_list = []\n",
    "  subplot_titles = []\n",
    "  file_paths = []\n",
    "  for file_path in [f for f in file_path_list if \"Function_\" + str(function_index) in f]:\n",
    "      if \"EA_MCTS\" in file_path:\n",
    "        data_list.append(pd.read_csv(file_path))\n",
    "        subplot_titles += [file_path.split(os.sep)[-2]]\n",
    "        file_paths += [file_path]\n",
    "  if subplot_titles != [] and data_list != []:\n",
    "    fop = fo.GameState(function_index=function_index)\n",
    "\n",
    "    plot = eu.fo_tree_histogram(data_list, \n",
    "                          fop.function, \n",
    "                          \"Function\"+str(function_index+1) , \n",
    "                          divisions = 3,\n",
    "                          n_buckets = 128, \n",
    "                          subplot_titles = [\"\"] + subplot_titles,#file_paths, \n",
    "                          max_x_location=fop.max_location,\n",
    "                          y_ref_value=None)\n",
    "    #plot.write_image(os.path.join(logs_path, \"F\" + str(f_index+1) + \"_results\"+ str(n_buckets) + '.png'))#, width=800, height=1000)\n",
    "    plot.show()"
   ]
  },
  {
   "cell_type": "code",
   "execution_count": 3,
   "metadata": {},
   "outputs": [
    {
     "name": "stdout",
     "output_type": "stream",
     "text": [
      "Playing game 0 of 5, agents: ['SIEA_MCTS_unpaired', 'Random']\n"
     ]
    },
    {
     "ename": "KeyboardInterrupt",
     "evalue": "",
     "output_type": "error",
     "traceback": [
      "\u001b[1;31m---------------------------------------------------------------------------\u001b[0m",
      "\u001b[1;31mKeyboardInterrupt\u001b[0m                         Traceback (most recent call last)",
      "\u001b[1;32mc:\\Users\\Fredasus\\Documents\\Gits\\MCTS_EA_Tabletop_games\\debugger.ipynb Cell 4\u001b[0m in \u001b[0;36m<module>\u001b[1;34m\u001b[0m\n\u001b[0;32m      <a href='vscode-notebook-cell:/c%3A/Users/Fredasus/Documents/Gits/MCTS_EA_Tabletop_games/debugger.ipynb#W3sZmlsZQ%3D%3D?line=8'>9</a>\u001b[0m agent2 \u001b[39m=\u001b[39m siea_mcts\u001b[39m.\u001b[39mSIEA_MCTS_Player(max_fm\u001b[39m=\u001b[39mmax_fm, rollouts \u001b[39m=\u001b[39m rollouts, logs\u001b[39m=\u001b[39m\u001b[39mTrue\u001b[39;00m, unpaired_evolution\u001b[39m=\u001b[39m\u001b[39mTrue\u001b[39;00m, name\u001b[39m=\u001b[39m\u001b[39m\"\u001b[39m\u001b[39mSIEA_MCTS_unpaired\u001b[39m\u001b[39m\"\u001b[39m)\n\u001b[0;32m     <a href='vscode-notebook-cell:/c%3A/Users/Fredasus/Documents/Gits/MCTS_EA_Tabletop_games/debugger.ipynb#W3sZmlsZQ%3D%3D?line=9'>10</a>\u001b[0m agent3 \u001b[39m=\u001b[39m arand\u001b[39m.\u001b[39mRandomPlayer()\n\u001b[1;32m---> <a href='vscode-notebook-cell:/c%3A/Users/Fredasus/Documents/Gits/MCTS_EA_Tabletop_games/debugger.ipynb#W3sZmlsZQ%3D%3D?line=10'>11</a>\u001b[0m eu\u001b[39m.\u001b[39;49mplay_match([agent2, agent3], game, games, file_path\u001b[39m=\u001b[39;49mos\u001b[39m.\u001b[39;49mpath\u001b[39m.\u001b[39;49mjoin(\u001b[39m\"\u001b[39;49m\u001b[39mOutputs\u001b[39;49m\u001b[39m\"\u001b[39;49m,\u001b[39m\"\u001b[39;49m\u001b[39mTest_match\u001b[39;49m\u001b[39m\"\u001b[39;49m), logs\u001b[39m=\u001b[39;49m\u001b[39mTrue\u001b[39;49;00m, logs_dispatch_after\u001b[39m=\u001b[39;49m\u001b[39m2\u001b[39;49m)\n",
      "File \u001b[1;32mc:\\Users\\Fredasus\\Documents\\Gits\\MCTS_EA_Tabletop_games\\Utilities\\experiment_utils.py:151\u001b[0m, in \u001b[0;36mplay_match\u001b[1;34m(agents, game_state, games, file_path, random_seed, logs, logs_dispatch_after)\u001b[0m\n\u001b[0;32m    149\u001b[0m \u001b[39mif\u001b[39;00m random_seed \u001b[39mis\u001b[39;00m \u001b[39mNone\u001b[39;00m: random_seed \u001b[39m=\u001b[39m rd\u001b[39m.\u001b[39mrandint(\u001b[39m0\u001b[39m, \u001b[39m2\u001b[39m\u001b[39m*\u001b[39m\u001b[39m*\u001b[39m\u001b[39m32\u001b[39m)\n\u001b[0;32m    150\u001b[0m gp1 \u001b[39m=\u001b[39m GamePlayer(game_state\u001b[39m.\u001b[39mduplicate(), agents)\n\u001b[1;32m--> 151\u001b[0m gp1\u001b[39m.\u001b[39;49mplay_games(games, random_seed \u001b[39m=\u001b[39;49m random_seed, logs \u001b[39m=\u001b[39;49m logs, logs_path\u001b[39m=\u001b[39;49mfile_path, logs_dispatch_after\u001b[39m=\u001b[39;49mlogs_dispatch_after)\n\u001b[0;32m    152\u001b[0m gp2 \u001b[39m=\u001b[39m GamePlayer(game_state\u001b[39m.\u001b[39mduplicate(), agents[::\u001b[39m-\u001b[39m\u001b[39m1\u001b[39m])\n\u001b[0;32m    153\u001b[0m gp2\u001b[39m.\u001b[39mplay_games(games, random_seed \u001b[39m=\u001b[39m random_seed, logs \u001b[39m=\u001b[39m logs, logs_path\u001b[39m=\u001b[39mfile_path, logs_dispatch_after\u001b[39m=\u001b[39mlogs_dispatch_after)\n",
      "File \u001b[1;32mc:\\Users\\Fredasus\\Documents\\Gits\\MCTS_EA_Tabletop_games\\Utilities\\experiment_utils.py:106\u001b[0m, in \u001b[0;36mGamePlayer.play_games\u001b[1;34m(self, n_games, random_seed, logs, logs_dispatch_after, logs_path)\u001b[0m\n\u001b[0;32m    104\u001b[0m \u001b[39mfor\u001b[39;00m i \u001b[39min\u001b[39;00m \u001b[39mrange\u001b[39m(n_games):\n\u001b[0;32m    105\u001b[0m     \u001b[39mif\u001b[39;00m logs: \u001b[39mprint\u001b[39m(\u001b[39m\"\u001b[39m\u001b[39mPlaying game \u001b[39m\u001b[39m\"\u001b[39m \u001b[39m+\u001b[39m \u001b[39mstr\u001b[39m(i) \u001b[39m+\u001b[39m \u001b[39m\"\u001b[39m\u001b[39m of \u001b[39m\u001b[39m\"\u001b[39m \u001b[39m+\u001b[39m \u001b[39mstr\u001b[39m(n_games) \u001b[39m+\u001b[39m \u001b[39m\"\u001b[39m\u001b[39m, agents: \u001b[39m\u001b[39m\"\u001b[39m \u001b[39m+\u001b[39m \u001b[39mstr\u001b[39m([a\u001b[39m.\u001b[39mname \u001b[39mfor\u001b[39;00m a \u001b[39min\u001b[39;00m \u001b[39mself\u001b[39m\u001b[39m.\u001b[39mplayers]))\n\u001b[1;32m--> 106\u001b[0m     \u001b[39mself\u001b[39;49m\u001b[39m.\u001b[39;49mplay_game(random_seed \u001b[39m=\u001b[39;49m seeds[i], logs \u001b[39m=\u001b[39;49m logs)\n\u001b[0;32m    107\u001b[0m     \u001b[39mif\u001b[39;00m logs:\n\u001b[0;32m    108\u001b[0m         \u001b[39mif\u001b[39;00m i \u001b[39m%\u001b[39m logs_dispatch_after \u001b[39m==\u001b[39m \u001b[39m0\u001b[39m:\n",
      "File \u001b[1;32mc:\\Users\\Fredasus\\Documents\\Gits\\MCTS_EA_Tabletop_games\\Utilities\\experiment_utils.py:50\u001b[0m, in \u001b[0;36mGamePlayer.play_game\u001b[1;34m(self, random_seed, logs)\u001b[0m\n\u001b[0;32m     48\u001b[0m \u001b[39mwhile\u001b[39;00m \u001b[39mnot\u001b[39;00m gs\u001b[39m.\u001b[39mis_terminal:\n\u001b[0;32m     49\u001b[0m     start_time \u001b[39m=\u001b[39m time\u001b[39m.\u001b[39mtime()\n\u001b[1;32m---> 50\u001b[0m     action \u001b[39m=\u001b[39m \u001b[39mself\u001b[39;49m\u001b[39m.\u001b[39;49mplayers[gs\u001b[39m.\u001b[39;49mplayer_turn]\u001b[39m.\u001b[39;49mchoose_action(gs)\n\u001b[0;32m     51\u001b[0m     selection_time \u001b[39m=\u001b[39m time\u001b[39m.\u001b[39mtime() \u001b[39m-\u001b[39m start_time\n\u001b[0;32m     53\u001b[0m     \u001b[39m#Update logs\u001b[39;00m\n",
      "File \u001b[1;32mc:\\Users\\Fredasus\\Documents\\Gits\\MCTS_EA_Tabletop_games\\Agents\\siea_mcts.py:63\u001b[0m, in \u001b[0;36mSIEA_MCTS_Player.choose_action\u001b[1;34m(self, state)\u001b[0m\n\u001b[0;32m     61\u001b[0m \u001b[39mself\u001b[39m\u001b[39m.\u001b[39mGPTree \u001b[39m=\u001b[39m \u001b[39mNone\u001b[39;00m\n\u001b[0;32m     62\u001b[0m \u001b[39mself\u001b[39m\u001b[39m.\u001b[39mevolution_fm_calls \u001b[39m=\u001b[39m \u001b[39m0\u001b[39m\n\u001b[1;32m---> 63\u001b[0m to_return \u001b[39m=\u001b[39m \u001b[39msuper\u001b[39;49m()\u001b[39m.\u001b[39;49mchoose_action(state)\n\u001b[0;32m     64\u001b[0m \u001b[39mreturn\u001b[39;00m to_return\n",
      "File \u001b[1;32mc:\\Users\\Fredasus\\Documents\\Gits\\MCTS_EA_Tabletop_games\\Agents\\vanilla_mcts.py:126\u001b[0m, in \u001b[0;36mMCTS_Player.choose_action\u001b[1;34m(self, state)\u001b[0m\n\u001b[0;32m    123\u001b[0m start_time \u001b[39m=\u001b[39m time\u001b[39m.\u001b[39mtime()\n\u001b[0;32m    125\u001b[0m \u001b[39mwhile\u001b[39;00m \u001b[39mself\u001b[39m\u001b[39m.\u001b[39mcurrent_fm \u001b[39m<\u001b[39m \u001b[39mself\u001b[39m\u001b[39m.\u001b[39mmax_fm \u001b[39mand\u001b[39;00m \u001b[39mself\u001b[39m\u001b[39m.\u001b[39mcurrent_iterations \u001b[39m<\u001b[39m \u001b[39mself\u001b[39m\u001b[39m.\u001b[39mmax_iterations \u001b[39mand\u001b[39;00m \u001b[39mself\u001b[39m\u001b[39m.\u001b[39mcurrent_time \u001b[39m<\u001b[39m \u001b[39mself\u001b[39m\u001b[39m.\u001b[39mmax_time:\n\u001b[1;32m--> 126\u001b[0m     \u001b[39mself\u001b[39;49m\u001b[39m.\u001b[39;49miteration(\u001b[39mself\u001b[39;49m\u001b[39m.\u001b[39;49mroot_node)\n\u001b[0;32m    128\u001b[0m     \u001b[39m#Update criteria\u001b[39;00m\n\u001b[0;32m    129\u001b[0m     \u001b[39mself\u001b[39m\u001b[39m.\u001b[39mcurrent_iterations \u001b[39m=\u001b[39m \u001b[39mself\u001b[39m\u001b[39m.\u001b[39mcurrent_iterations \u001b[39m+\u001b[39m \u001b[39m1\u001b[39m\n",
      "File \u001b[1;32mc:\\Users\\Fredasus\\Documents\\Gits\\MCTS_EA_Tabletop_games\\Agents\\vanilla_mcts.py:148\u001b[0m, in \u001b[0;36mMCTS_Player.iteration\u001b[1;34m(self, node)\u001b[0m\n\u001b[0;32m    145\u001b[0m \u001b[39mdef\u001b[39;00m \u001b[39miteration\u001b[39m(\u001b[39mself\u001b[39m, node):\n\u001b[0;32m    146\u001b[0m \n\u001b[0;32m    147\u001b[0m     \u001b[39m#Selection\u001b[39;00m\n\u001b[1;32m--> 148\u001b[0m     node \u001b[39m=\u001b[39m \u001b[39mself\u001b[39;49m\u001b[39m.\u001b[39;49mselection(node)\n\u001b[0;32m    150\u001b[0m     \u001b[39m#Expansion\u001b[39;00m\n\u001b[0;32m    151\u001b[0m     \u001b[39mif\u001b[39;00m node\u001b[39m.\u001b[39mcan_be_expanded():\n",
      "File \u001b[1;32mc:\\Users\\Fredasus\\Documents\\Gits\\MCTS_EA_Tabletop_games\\Agents\\siea_mcts.py:77\u001b[0m, in \u001b[0;36mSIEA_MCTS_Player.selection\u001b[1;34m(self, node)\u001b[0m\n\u001b[0;32m     74\u001b[0m     \u001b[39m#node = ES_Search(node, self)\u001b[39;00m\n\u001b[0;32m     75\u001b[0m     \u001b[39m#node = max(node.children.values(), key= lambda x: self.UCB1(x))\u001b[39;00m\n\u001b[0;32m     76\u001b[0m     nodeValues \u001b[39m=\u001b[39m {a:\u001b[39mself\u001b[39m\u001b[39m.\u001b[39mGPTree(c\u001b[39m.\u001b[39mtotal_reward, c\u001b[39m.\u001b[39mvisits, node\u001b[39m.\u001b[39mvisits) \u001b[39mfor\u001b[39;00m a,c \u001b[39min\u001b[39;00m node\u001b[39m.\u001b[39mchildren\u001b[39m.\u001b[39mitems()}\n\u001b[1;32m---> 77\u001b[0m     node \u001b[39m=\u001b[39m node\u001b[39m.\u001b[39mchildren[\u001b[39mmax\u001b[39;49m(nodeValues, key\u001b[39m=\u001b[39;49mnodeValues\u001b[39m.\u001b[39;49mget)] \u001b[39mif\u001b[39;00m MCTS_Player\u001b[39m.\u001b[39mplayer \u001b[39m==\u001b[39m node\u001b[39m.\u001b[39mstate\u001b[39m.\u001b[39mplayer_turn \u001b[39melse\u001b[39;00m node\u001b[39m.\u001b[39mchildren[\u001b[39mmin\u001b[39m(nodeValues, key\u001b[39m=\u001b[39mnodeValues\u001b[39m.\u001b[39mget)]\n\u001b[0;32m     79\u001b[0m \u001b[39mreturn\u001b[39;00m node\n",
      "File \u001b[1;32mc:\\Users\\Fredasus\\Documents\\Gits\\MCTS_EA_Tabletop_games\\Games\\mnk.py:27\u001b[0m, in \u001b[0;36mAction.__hash__\u001b[1;34m(self)\u001b[0m\n\u001b[0;32m     26\u001b[0m \u001b[39mdef\u001b[39;00m \u001b[39m__hash__\u001b[39m(\u001b[39mself\u001b[39m):\n\u001b[1;32m---> 27\u001b[0m     \u001b[39mreturn\u001b[39;00m \u001b[39mhash\u001b[39;49m(\u001b[39mself\u001b[39;49m\u001b[39m.\u001b[39;49m__members())\n",
      "\u001b[1;31mKeyboardInterrupt\u001b[0m: "
     ]
    }
   ],
   "source": [
    "max_fm = 5000\n",
    "max_iterations = 50\n",
    "rollouts = 1\n",
    "games = 5\n",
    "game = mnk.GameState(6,6,4)\n",
    "game.set_initial_state()\n",
    "agent0 = mcts.MCTS_Player(max_fm=max_fm, rollouts = rollouts, logs=True)\n",
    "agent1 = siea_mcts.SIEA_MCTS_Player(max_fm=max_fm, rollouts = rollouts, logs=True)\n",
    "agent2 = siea_mcts.SIEA_MCTS_Player(max_fm=max_fm, rollouts = rollouts, logs=True, unpaired_evolution=True, name=\"SIEA_MCTS_unpaired\")\n",
    "agent3 = arand.RandomPlayer()\n",
    "eu.play_match([agent2, agent3], game, games, file_path=os.path.join(\"Outputs\",\"Test_match\"), logs=True, logs_dispatch_after=2)"
   ]
  },
  {
   "cell_type": "code",
   "execution_count": 2,
   "metadata": {},
   "outputs": [
    {
     "name": "stdout",
     "output_type": "stream",
     "text": [
      "Logs identifier: 258217\n",
      "Agent SIEA_MCTS  chose action [['0.500', '1.000']]t0\n",
      "Agent SIEA_MCTSu  chose action [['0.000', '0.500']]t0\n",
      "['Outputs\\\\Test\\\\fo_single_decision_258217\\\\SIEA_MCTS\\\\results.csv', 'Outputs\\\\Test\\\\fo_single_decision_258217\\\\SIEA_MCTSu\\\\results.csv']\n",
      "['Outputs\\\\Test\\\\fo_single_decision_258217\\\\SIEA_MCTS\\\\logs_by_run.csv', 'Outputs\\\\Test\\\\fo_single_decision_258217\\\\SIEA_MCTSu\\\\logs_by_run.csv']\n",
      "['Outputs\\\\Test\\\\fo_single_decision_258217\\\\SIEA_MCTS\\\\Run 0\\\\evolution_logs.csv', 'Outputs\\\\Test\\\\fo_single_decision_258217\\\\SIEA_MCTS\\\\Run 1\\\\evolution_logs.csv', 'Outputs\\\\Test\\\\fo_single_decision_258217\\\\SIEA_MCTS\\\\Run 10\\\\evolution_logs.csv', 'Outputs\\\\Test\\\\fo_single_decision_258217\\\\SIEA_MCTS\\\\Run 11\\\\evolution_logs.csv', 'Outputs\\\\Test\\\\fo_single_decision_258217\\\\SIEA_MCTS\\\\Run 12\\\\evolution_logs.csv', 'Outputs\\\\Test\\\\fo_single_decision_258217\\\\SIEA_MCTS\\\\Run 13\\\\evolution_logs.csv', 'Outputs\\\\Test\\\\fo_single_decision_258217\\\\SIEA_MCTS\\\\Run 14\\\\evolution_logs.csv', 'Outputs\\\\Test\\\\fo_single_decision_258217\\\\SIEA_MCTS\\\\Run 15\\\\evolution_logs.csv', 'Outputs\\\\Test\\\\fo_single_decision_258217\\\\SIEA_MCTS\\\\Run 16\\\\evolution_logs.csv', 'Outputs\\\\Test\\\\fo_single_decision_258217\\\\SIEA_MCTS\\\\Run 17\\\\evolution_logs.csv', 'Outputs\\\\Test\\\\fo_single_decision_258217\\\\SIEA_MCTS\\\\Run 18\\\\evolution_logs.csv', 'Outputs\\\\Test\\\\fo_single_decision_258217\\\\SIEA_MCTS\\\\Run 19\\\\evolution_logs.csv', 'Outputs\\\\Test\\\\fo_single_decision_258217\\\\SIEA_MCTS\\\\Run 2\\\\evolution_logs.csv', 'Outputs\\\\Test\\\\fo_single_decision_258217\\\\SIEA_MCTS\\\\Run 3\\\\evolution_logs.csv', 'Outputs\\\\Test\\\\fo_single_decision_258217\\\\SIEA_MCTS\\\\Run 4\\\\evolution_logs.csv', 'Outputs\\\\Test\\\\fo_single_decision_258217\\\\SIEA_MCTS\\\\Run 5\\\\evolution_logs.csv', 'Outputs\\\\Test\\\\fo_single_decision_258217\\\\SIEA_MCTS\\\\Run 6\\\\evolution_logs.csv', 'Outputs\\\\Test\\\\fo_single_decision_258217\\\\SIEA_MCTS\\\\Run 7\\\\evolution_logs.csv', 'Outputs\\\\Test\\\\fo_single_decision_258217\\\\SIEA_MCTS\\\\Run 8\\\\evolution_logs.csv', 'Outputs\\\\Test\\\\fo_single_decision_258217\\\\SIEA_MCTS\\\\Run 9\\\\evolution_logs.csv', 'Outputs\\\\Test\\\\fo_single_decision_258217\\\\SIEA_MCTSu\\\\Run 0\\\\evolution_logs.csv', 'Outputs\\\\Test\\\\fo_single_decision_258217\\\\SIEA_MCTSu\\\\Run 1\\\\evolution_logs.csv', 'Outputs\\\\Test\\\\fo_single_decision_258217\\\\SIEA_MCTSu\\\\Run 10\\\\evolution_logs.csv', 'Outputs\\\\Test\\\\fo_single_decision_258217\\\\SIEA_MCTSu\\\\Run 11\\\\evolution_logs.csv', 'Outputs\\\\Test\\\\fo_single_decision_258217\\\\SIEA_MCTSu\\\\Run 12\\\\evolution_logs.csv', 'Outputs\\\\Test\\\\fo_single_decision_258217\\\\SIEA_MCTSu\\\\Run 13\\\\evolution_logs.csv', 'Outputs\\\\Test\\\\fo_single_decision_258217\\\\SIEA_MCTSu\\\\Run 14\\\\evolution_logs.csv', 'Outputs\\\\Test\\\\fo_single_decision_258217\\\\SIEA_MCTSu\\\\Run 15\\\\evolution_logs.csv', 'Outputs\\\\Test\\\\fo_single_decision_258217\\\\SIEA_MCTSu\\\\Run 16\\\\evolution_logs.csv', 'Outputs\\\\Test\\\\fo_single_decision_258217\\\\SIEA_MCTSu\\\\Run 17\\\\evolution_logs.csv', 'Outputs\\\\Test\\\\fo_single_decision_258217\\\\SIEA_MCTSu\\\\Run 18\\\\evolution_logs.csv', 'Outputs\\\\Test\\\\fo_single_decision_258217\\\\SIEA_MCTSu\\\\Run 19\\\\evolution_logs.csv', 'Outputs\\\\Test\\\\fo_single_decision_258217\\\\SIEA_MCTSu\\\\Run 2\\\\evolution_logs.csv', 'Outputs\\\\Test\\\\fo_single_decision_258217\\\\SIEA_MCTSu\\\\Run 3\\\\evolution_logs.csv', 'Outputs\\\\Test\\\\fo_single_decision_258217\\\\SIEA_MCTSu\\\\Run 4\\\\evolution_logs.csv', 'Outputs\\\\Test\\\\fo_single_decision_258217\\\\SIEA_MCTSu\\\\Run 5\\\\evolution_logs.csv', 'Outputs\\\\Test\\\\fo_single_decision_258217\\\\SIEA_MCTSu\\\\Run 6\\\\evolution_logs.csv', 'Outputs\\\\Test\\\\fo_single_decision_258217\\\\SIEA_MCTSu\\\\Run 7\\\\evolution_logs.csv', 'Outputs\\\\Test\\\\fo_single_decision_258217\\\\SIEA_MCTSu\\\\Run 8\\\\evolution_logs.csv', 'Outputs\\\\Test\\\\fo_single_decision_258217\\\\SIEA_MCTSu\\\\Run 9\\\\evolution_logs.csv']\n",
      "['Outputs\\\\Test\\\\fo_single_decision_258217\\\\SIEA_MCTS\\\\tree_data.csv', 'Outputs\\\\Test\\\\fo_single_decision_258217\\\\SIEA_MCTSu\\\\tree_data.csv']\n"
     ]
    }
   ],
   "source": [
    "#Simple comparison of algorithms\n",
    "function_index = 3\n",
    "runs = 20\n",
    "random_seed = 3\n",
    "iterations = 100\n",
    "unique_value = str(rd.randint(1,2**20))\n",
    "print(\"Logs identifier: \" + unique_value)\n",
    "game_state = fo.GameState(function_index=function_index, for_test=True  )\n",
    "game_state.set_initial_state()\n",
    "\n",
    "\n",
    "mcts_player = siea_mcts.SIEA_MCTS_Player(max_iterations=iterations, logs=True, es_semantics_l=0.1, es_semantics_u=0.5, unpaired_evolution=False, name=\"SIEA_MCTS\")\n",
    "#mcts_player = mcts.MCTS_Player(max_iterations=iterations, logs=True)\n",
    "agent1_logs_path = os.path.join(\"Outputs\", \"Test\", \"fo_single_decision_\" + unique_value, mcts_player.name)\n",
    "action = eu.mcts_decision_analysis(game_state, \n",
    "                                mcts_player, \n",
    "                                agent1_logs_path, \n",
    "                                runs, \n",
    "                                random_seed)\n",
    "print(\"Agent\", mcts_player.name, \" chose action\", action)\n",
    "\n",
    "\n",
    "mcts_player = siea_mcts.SIEA_MCTS_Player(max_iterations=iterations, logs=True, es_semantics_l=0.1, es_semantics_u=0.5, unpaired_evolution=True, name=\"SIEA_MCTSu\")\n",
    "agent2_logs_path = os.path.join(\"Outputs\", \"Test\", \"fo_single_decision_\" + unique_value, mcts_player.name)\n",
    "action = eu.mcts_decision_analysis(game_state, \n",
    "                                mcts_player, \n",
    "                                os.path.join(\"Outputs\", \"Test\", \"fo_single_decision_\" + unique_value, mcts_player.name), \n",
    "                                runs, \n",
    "                                random_seed)\n",
    "print(\"Agent\", mcts_player.name, \" chose action\", action)\n",
    "test_path = os.path.join(\"Outputs\", \"Test\", \"fo_single_decision_\" + unique_value)\n",
    "for file_name in [\"results.csv\", \"logs_by_run.csv\", \"evolution_logs.csv\", \"tree_data.csv\"]:\n",
    "    found_log_files = lm.find_log_files(file_name, test_path)\n",
    "    #print(found_log_files)\n",
    "    collected_logs = lm.combine_logs(test_path, \"collective_\"+file_name, found_log_files)"
   ]
  },
  {
   "cell_type": "code",
   "execution_count": null,
   "metadata": {},
   "outputs": [],
   "source": [
    "logs_path = os.path.join(\"Outputs\",\"FO_single_decision_5000\")\n",
    "random_seed = 10\n",
    "runs = 30\n",
    "iterations = 5000\n",
    "es_lambda = 4\n",
    "es_fitness_iterations = 30\n",
    "es_generations = 20\n",
    "c_list = [0.5, 1, math.sqrt(2),2,3]\n",
    "c_names = [\"0_5\", \"1\", \"1_4142\", \"2\", \"3\"]\n",
    "agents = []\n",
    "function_indexes = []\n",
    "function_indexes = [1,3]#0,1,2,3,4]\n",
    "#function_indexes += [5,6,7,8,9]\n",
    "\n",
    "agents = agents + [siea_mcts.SIEA_MCTS_Player(max_iterations=its, \n",
    "                                         es_lambda=es_lambda, \n",
    "                                         es_fitness_iterations=es_fitness_iterations,\n",
    "                                        es_generations=es_generations,\n",
    "                                        es_semantics_l=0.1,\n",
    "                                        es_semantics_u = 0.5,\n",
    "                                        name = \"SIEA_MCTS_Clone_Expand_its\" + str(its),\n",
    "                                         logs=True) for its in [iterations, iterations-(es_fitness_iterations*es_generations*es_lambda)]]\n",
    "                                        \n",
    "for function_index in function_indexes:\n",
    "    print(\"In function \" + str(function_index))\n",
    "    game_state = fo.GameState(function_index=function_index, n_players=1)\n",
    "    game_state.set_initial_state()\n",
    "    for agent in agents:\n",
    "        print(\"In agent \" + agent.name)\n",
    "        action = eu.mcts_decision_analysis(game_state = game_state,\n",
    "                                             mcts_player = agent,\n",
    "                                             logs_path = os.path.join(logs_path,\"Function_\" + str(function_index), agent.name),\n",
    "                                             runs = runs,\n",
    "                                             random_seed = random_seed)   \n"
   ]
  }
 ],
 "metadata": {
  "kernelspec": {
   "display_name": "Python 3",
   "language": "python",
   "name": "python3"
  },
  "language_info": {
   "codemirror_mode": {
    "name": "ipython",
    "version": 3
   },
   "file_extension": ".py",
   "mimetype": "text/x-python",
   "name": "python",
   "nbconvert_exporter": "python",
   "pygments_lexer": "ipython3",
   "version": "3.10.2"
  },
  "orig_nbformat": 4,
  "vscode": {
   "interpreter": {
    "hash": "6ecbf9c18c0d04a2116424ae9aa6ca1f2cdd5cba2daaa9a1f143185bb59456a8"
   }
  }
 },
 "nbformat": 4,
 "nbformat_minor": 2
}
