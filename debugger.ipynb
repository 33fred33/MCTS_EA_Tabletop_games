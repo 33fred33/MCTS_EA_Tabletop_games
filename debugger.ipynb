{
 "cells": [
  {
   "cell_type": "code",
   "execution_count": 1,
   "metadata": {},
   "outputs": [],
   "source": [
    "import cProfile\n",
    "import random as rd\n",
    "import time\n",
    "from collections import defaultdict\n",
    "import numpy as np\n",
    "import itertools as it\n",
    "import Utilities.experiment_utils as eu\n",
    "import unit_test as ut\n",
    "\n",
    "import Games.mnk as mnk\n",
    "import Agents.random as arand\n",
    "import Agents.vanilla_mcts as mcts \n",
    "import Games.function_optimisation as fo\n",
    "#import carcassonne as carc"
   ]
  },
  {
   "cell_type": "code",
   "execution_count": 2,
   "metadata": {},
   "outputs": [
    {
     "name": "stdout",
     "output_type": "stream",
     "text": [
      "  Player_0 Player_1  Random_seed  Game_index (0, 0) (0, 1)  (0, 2) (1, 0)  \\\n",
      "0   Random   Random   3362208283           0      1      1       0      0   \n",
      "1   Random   Random   2477674870           1      1      0       0      1   \n",
      "2   Random   Random    483706792           2      0      1       1      0   \n",
      "3   Random   Random   3197423669           3   None      1       0      0   \n",
      "4   Random   Random   4077398582           4      0   None       1      0   \n",
      "5   Random   Random   1994231777           5      1      1       0      0   \n",
      "6   Random   Random   3649280316           6      1      0       0   None   \n",
      "7   Random   Random   3980698891           7      1      0       0      1   \n",
      "8   Random   Random   3164895994           8      0      1       1      1   \n",
      "9   Random   Random   1270586252           9      0      1       1      1   \n",
      "\n",
      "   (1, 1) (1, 2) (2, 0) (2, 1)  (2, 2)  Score_p0  Score_p1  Turn Winner  \\\n",
      "0       0      1      1      0       0         0         0     9   None   \n",
      "1       1      0      0      1       0         1        -1     9      0   \n",
      "2       0      0      1      1       0         1        -1     9      0   \n",
      "3       1      0      1   None       0         1        -1     7      0   \n",
      "4       1      0      1      0       1        -1         1     8      1   \n",
      "5       0      1      1      0       0         0         0     9   None   \n",
      "6       1      1      0      0       1        -1         1     8      1   \n",
      "7       0   None   None      0       1         1        -1     7      0   \n",
      "8       1      0      0      0       0         1        -1     9      0   \n",
      "9       0      0      0      0       1         0         0     9   None   \n",
      "\n",
      "   N_available_actions  \n",
      "0                    0  \n",
      "1                    0  \n",
      "2                    0  \n",
      "3                    0  \n",
      "4                    0  \n",
      "5                    0  \n",
      "6                    0  \n",
      "7                    0  \n",
      "8                    0  \n",
      "9                    0  \n"
     ]
    }
   ],
   "source": [
    "game = ut.produce_game(\"mnk\")\n",
    "agent1 = ut.produce_agent(\"random\")\n",
    "agent2 = ut.produce_agent(\"random\")\n",
    "game_player = eu.GamePlayer(game, [agent1, agent2])\n",
    "game_player.play_games(n_games=10)\n",
    "print(game_player.logs_by_game)"
   ]
  },
  {
   "cell_type": "code",
   "execution_count": 4,
   "metadata": {},
   "outputs": [
    {
     "name": "stdout",
     "output_type": "stream",
     "text": [
      "    Player Chosen_action Time Game_index (0, 0) (0, 1) (0, 2) (1, 0) (1, 1)  \\\n",
      "0   Random    (x1,y1,t0)  0.0          0   None   None   None   None   None   \n",
      "1   Random    (x1,y0,t1)  0.0          0   None   None   None   None      0   \n",
      "2   Random    (x2,y2,t0)  0.0          0   None   None   None      1      0   \n",
      "3   Random    (x1,y2,t1)  0.0          0   None   None   None      1      0   \n",
      "4   Random    (x2,y0,t0)  0.0          0   None   None   None      1      0   \n",
      "5   Random    (x2,y1,t1)  0.0          0   None   None   None      1      0   \n",
      "6   Random    (x0,y1,t0)  0.0          0   None   None   None      1      0   \n",
      "7   Random    (x0,y0,t1)  0.0          0   None      0   None      1      0   \n",
      "8   Random    (x0,y2,t0)  0.0          0      1      0   None      1      0   \n",
      "9   Random    (x0,y1,t0)  0.0          1   None   None   None   None   None   \n",
      "10  Random    (x1,y0,t1)  0.0          1   None      0   None   None   None   \n",
      "11  Random    (x2,y0,t0)  0.0          1   None      0   None      1   None   \n",
      "12  Random    (x0,y0,t1)  0.0          1   None      0   None      1   None   \n",
      "13  Random    (x2,y1,t0)  0.0          1      1      0   None      1   None   \n",
      "14  Random    (x1,y2,t1)  0.0          1      1      0   None      1   None   \n",
      "15  Random    (x0,y2,t0)  0.0          1      1      0   None      1   None   \n",
      "16  Random    (x2,y2,t1)  0.0          1      1      0      0      1   None   \n",
      "17  Random    (x1,y1,t0)  0.0          1      1      0      0      1   None   \n",
      "\n",
      "   (1, 2) (2, 0) (2, 1) (2, 2) Score_p0 Score_p1  Turn Winner  \\\n",
      "0    None   None   None   None     None     None     1   None   \n",
      "1    None   None   None   None     None     None     2   None   \n",
      "2    None   None   None   None     None     None     3   None   \n",
      "3    None   None   None      0     None     None     4   None   \n",
      "4       1   None   None      0     None     None     5   None   \n",
      "5       1      0   None      0     None     None     6   None   \n",
      "6       1      0      1      0     None     None     7   None   \n",
      "7       1      0      1      0     None     None     8   None   \n",
      "8       1      0      1      0     None     None     9   None   \n",
      "9    None   None   None   None     None     None     1   None   \n",
      "10   None   None   None   None     None     None     2   None   \n",
      "11   None   None   None   None     None     None     3   None   \n",
      "12   None      0   None   None     None     None     4   None   \n",
      "13   None      0   None   None     None     None     5   None   \n",
      "14   None      0      0   None     None     None     6   None   \n",
      "15      1      0      0   None     None     None     7   None   \n",
      "16      1      0      0   None     None     None     8   None   \n",
      "17      1      0      0      1     None     None     9   None   \n",
      "\n",
      "    N_available_actions  \n",
      "0                     9  \n",
      "1                     8  \n",
      "2                     7  \n",
      "3                     6  \n",
      "4                     5  \n",
      "5                     4  \n",
      "6                     3  \n",
      "7                     2  \n",
      "8                     1  \n",
      "9                     9  \n",
      "10                    8  \n",
      "11                    7  \n",
      "12                    6  \n",
      "13                    5  \n",
      "14                    4  \n",
      "15                    3  \n",
      "16                    2  \n",
      "17                    1  \n",
      "  Player_0 Player_1  Random_seed  Game_index  (0, 0)  (0, 1)  (0, 2)  (1, 0)  \\\n",
      "0   Random   Random   2840003971           0       1       0       0       1   \n",
      "1   Random   Random   2226501869           1       1       0       0       1   \n",
      "\n",
      "   (1, 1)  (1, 2)  (2, 0)  (2, 1)  (2, 2)  Score_p0  Score_p1  Turn  Winner  \\\n",
      "0       0       1       0       1       0         1        -1     9       0   \n",
      "1       0       1       0       0       1         1        -1     9       0   \n",
      "\n",
      "   N_available_actions  \n",
      "0                    0  \n",
      "1                    0  \n"
     ]
    }
   ],
   "source": []
  },
  {
   "cell_type": "code",
   "execution_count": null,
   "metadata": {},
   "outputs": [],
   "source": [
    "\n",
    "ut.test_mcts_tree(game_name=\"fo1d1p\")\n",
    "ut.run()"
   ]
  },
  {
   "cell_type": "code",
   "execution_count": null,
   "metadata": {},
   "outputs": [],
   "source": [
    "base_gs = mnk.GameState(3,3,3)\n",
    "base_gs.set_initial_state()\n",
    "agent1 = mcts.MCTS_Player(rollouts=100, c=1, max_iterations=20, default_policy=arand.RandomPlayer())\n",
    "agent2 = mcts.MCTS_Player(rollouts=20, c=1, max_iterations=100, default_policy=arand.RandomPlayer())\n",
    "players = [agent1,agent2]\n",
    "gs,logs = eu.play_game(base_gs, players, 5, True)\n",
    "print(gs.winner)\n",
    "gs.view_game_state()\n",
    "print(logs)"
   ]
  },
  {
   "cell_type": "code",
   "execution_count": 4,
   "metadata": {},
   "outputs": [
    {
     "name": "stdout",
     "output_type": "stream",
     "text": [
      "         10264365 function calls in 12.952 seconds\n",
      "\n",
      "   Ordered by: standard name\n",
      "\n",
      "   ncalls  tottime  percall  cumtime  percall filename:lineno(function)\n",
      "        1    0.623    0.623   12.952   12.952 1794207304.py:8(random_games)\n",
      "        2    0.000    0.000    0.000    0.000 1794207304.py:9(<lambda>)\n",
      "        1    0.000    0.000   12.952   12.952 <string>:1(<module>)\n",
      "   878085    0.971    0.000    4.956    0.000 mnk.py:105(_update_available_actions)\n",
      "   878085    3.867    0.000    3.867    0.000 mnk.py:106(<listcomp>)\n",
      "   888085    4.734    0.000    9.781    0.000 mnk.py:108(make_action)\n",
      "    10000    0.064    0.000    0.643    0.000 mnk.py:157(duplicate)\n",
      "    20000    0.332    0.000    0.332    0.000 mnk.py:161(<dictcomp>)\n",
      "    10000    0.060    0.000    0.060    0.000 mnk.py:162(<listcomp>)\n",
      "    10000    0.171    0.000    0.171    0.000 mnk.py:163(<dictcomp>)\n",
      "    10000    0.011    0.000    0.011    0.000 mnk.py:37(__init__)\n",
      "   888085    0.659    0.000    0.936    0.000 random.py:239(_randbelow_with_getrandbits)\n",
      "   888085    0.490    0.000    1.525    0.000 random.py:375(choice)\n",
      "   888085    0.380    0.000    1.905    0.000 random.py:7(choose_action)\n",
      "        1    0.000    0.000   12.952   12.952 {built-in method builtins.exec}\n",
      "  1766170    0.189    0.000    0.189    0.000 {built-in method builtins.len}\n",
      "   888085    0.109    0.000    0.109    0.000 {method 'bit_length' of 'int' objects}\n",
      "        1    0.000    0.000    0.000    0.000 {method 'disable' of '_lsprof.Profiler' objects}\n",
      "  1333509    0.168    0.000    0.168    0.000 {method 'getrandbits' of '_random.Random' objects}\n",
      "    30000    0.005    0.000    0.005    0.000 {method 'items' of 'dict' objects}\n",
      "   878085    0.118    0.000    0.118    0.000 {method 'values' of 'dict' objects}\n",
      "\n",
      "\n"
     ]
    }
   ],
   "source": [
    "cProfile.run(\"wins =  random_games(10000, base_gs)\")"
   ]
  }
 ],
 "metadata": {
  "kernelspec": {
   "display_name": "Python 3",
   "language": "python",
   "name": "python3"
  },
  "language_info": {
   "codemirror_mode": {
    "name": "ipython",
    "version": 3
   },
   "file_extension": ".py",
   "mimetype": "text/x-python",
   "name": "python",
   "nbconvert_exporter": "python",
   "pygments_lexer": "ipython3",
   "version": "3.10.2"
  },
  "orig_nbformat": 4,
  "vscode": {
   "interpreter": {
    "hash": "6ecbf9c18c0d04a2116424ae9aa6ca1f2cdd5cba2daaa9a1f143185bb59456a8"
   }
  }
 },
 "nbformat": 4,
 "nbformat_minor": 2
}
